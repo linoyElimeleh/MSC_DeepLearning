{
  "cells": [
    {
      "cell_type": "markdown",
      "metadata": {
        "id": "QnJUALElET8I"
      },
      "source": [
        "# Exercise 1: Linear Image Classifier\n",
        "\n",
        "In this exercise you will implement a linear image classifier while getting familiar with `numpy` and the benefits of vectorized operations in Python. This exercise has 2 parts:\n",
        "\n",
        "1. Implementing loss functions, calculating gradients and implementing gradient descent.\n",
        "2. Training and evaluating several classifiers.\n",
        "\n",
        "## Submission guidelines:\n",
        "\n",
        "Your submission should only include this jupyter notebook named HW1_ID.ipynb.\n",
        "\n",
        "## Read the following instructions carefully:\n",
        "\n",
        "1. This jupyter notebook contains all the step by step instructions needed for this exercise.\n",
        "2. Write **efficient vectorized** code whenever instructed.\n",
        "3. You are responsible for the correctness of your code and should add as many tests as you see fit. Tests will not be graded nor checked.\n",
        "4. Do not change the functions we provided you.\n",
        "4. Write your functions in the instructed python modules only. All the logic you write is imported and used using this jupyter notebook. You are allowed to add functions as long as they are located in the python modules and are imported properly.\n",
        "5. You are allowed to use functions and methods from the [Python Standard Library](https://docs.python.org/3/library/) and [numpy](https://www.numpy.org/devdocs/reference/) only. Any other imports are forbidden.\n",
        "6. Your code must run without errors.\n",
        "7. Answers to qualitative questions should be written in **markdown** cells (with $\\LaTeX$ support).\n",
        "8. **TIP: When there is a TODO before a missing code segment (or function), you can continue without implementing it right away; you will be referred to the missing segment later in the exercise.**"
      ]
    },
    {
      "cell_type": "markdown",
      "metadata": {
        "id": "_r1L4UklET8K"
      },
      "source": [
        "Q: What files do we need to upload to moodle?\n",
        "\n",
        "A: You should fill in the missing parts in this Jupyter notebook and then submit it via moodle (without any additional files).\n",
        "\n",
        "Q: How do I make sure everything works before I submit?\n",
        "\n",
        "A: You should restart your kernel and rerun all cells. Make sure you get the desired output and that you meet exercise requirements. **This is an important step. You should include your desired outputs in the output cells to make your code easier to understand.**"
      ]
    },
    {
      "cell_type": "markdown",
      "metadata": {
        "id": "UV9XOToVGvLZ"
      },
      "source": [
        "#### Imports"
      ]
    },
    {
      "cell_type": "code",
      "execution_count": null,
      "metadata": {
        "ExecuteTime": {
          "end_time": "2022-10-29T15:21:00.158255Z",
          "start_time": "2022-10-29T15:20:59.290618Z"
        },
        "id": "iLXvPpILET8K"
      },
      "outputs": [],
      "source": [
        "import os\n",
        "import numpy as np\n",
        "import matplotlib.pyplot as plt\n",
        "import pickle\n",
        "import numpy as np\n",
        "import os\n",
        "import sys\n",
        "import urllib.request\n",
        "import tarfile\n",
        "import zipfile\n",
        "from random import randrange\n",
        "from functools import partial\n",
        "import itertools\n",
        "import time\n",
        "\n",
        "# specify the way plots behave in jupyter notebook\n",
        "%matplotlib inline\n",
        "plt.rcParams['figure.figsize'] = (5.0, 3.0) # set default size of plots\n",
        "plt.rcParams['image.interpolation'] = 'nearest'\n",
        "plt.rcParams['image.cmap'] = 'gray'"
      ]
    },
    {
      "cell_type": "markdown",
      "metadata": {
        "heading_collapsed": true,
        "id": "BtYsC3I7ET8L"
      },
      "source": [
        "# Data preprocessing\n"
      ]
    },
    {
      "cell_type": "markdown",
      "metadata": {
        "hidden": true,
        "id": "-WovI1B4Gxwp"
      },
      "source": [
        "## Data download and processing Helper Code"
      ]
    },
    {
      "cell_type": "code",
      "execution_count": null,
      "metadata": {
        "ExecuteTime": {
          "end_time": "2022-10-29T15:21:00.767100Z",
          "start_time": "2022-10-29T15:21:00.754066Z"
        },
        "code_folding": [],
        "hidden": true,
        "id": "sC6iBqvmGYsn"
      },
      "outputs": [],
      "source": []
    },
    {
      "cell_type": "code",
      "execution_count": null,
      "outputs": [],
      "source": [
        "def maybe_download_and_extract(url, download_dir):\n",
        "    \"\"\"\n",
        "    Download and extract the data if it doesn't already exist.\n",
        "    Assumes the url is a tar-ball file.\n",
        "    :param url:\n",
        "        Internet URL for the tar-file to download.\n",
        "        Example: \"https://www.cs.toronto.edu/~kriz/cifar-10-python.tar.gz\"\n",
        "    :param download_dir:\n",
        "        Directory where the downloaded file is saved.\n",
        "        Example: \"data/CIFAR-10/\"\n",
        "    :return:\n",
        "        Nothing.\n",
        "    \"\"\"\n",
        "\n",
        "    # Filename for saving the file downloaded from the internet.\n",
        "    # Use the filename from the URL and add it to the download_dir.\n",
        "    filename = url.split('/')[-1]\n",
        "    file_path = os.path.join(download_dir, filename)\n",
        "\n",
        "    # Check if the file already exists.\n",
        "    # If it exists then we assume it has also been extracted,\n",
        "    # otherwise we need to download and extract it now.\n",
        "    if not os.path.exists(file_path):\n",
        "        # Check if the download directory exists, otherwise create it.\n",
        "        if not os.path.exists(download_dir):\n",
        "            os.makedirs(download_dir)\n",
        "\n",
        "        # Download the file from the internet.\n",
        "        print(\"Downloading, This might take several minutes.\")\n",
        "        last_update_time = time.time()\n",
        "        file_path, _ = urllib.request.urlretrieve(url=url,\n",
        "                                                  filename=file_path)\n",
        "\n",
        "        print()\n",
        "        print(\"Download finished. Extracting files.\")\n",
        "\n",
        "        if file_path.endswith(\".zip\"):\n",
        "            # Unpack the zip-file.\n",
        "            zipfile.ZipFile(file=file_path, mode=\"r\").extractall(download_dir)\n",
        "        elif file_path.endswith((\".tar.gz\", \".tgz\")):\n",
        "            # Unpack the tar-ball.\n",
        "            tarfile.open(name=file_path, mode=\"r:gz\").extractall(download_dir)\n",
        "\n",
        "        print(\"Done.\")\n",
        "    else:\n",
        "        print(\"Data has apparently already been downloaded and unpacked.\")\n",
        "        print(\"If not, delete the dataset folder and try again.\")\n",
        "\n",
        "def load_CIFAR_batch(filename):\n",
        "    ''' load single batch of cifar '''\n",
        "    with open(filename, 'rb') as f:\n",
        "        datadict = pickle.load(f, encoding = 'latin1')\n",
        "        X = datadict['data']\n",
        "        Y = datadict['labels']\n",
        "        X = X.reshape(10000, 3, 32, 32).transpose(0, 2, 3, 1).astype(\"float\")\n",
        "        Y = np.array(Y)\n",
        "        return X, Y\n",
        "\n",
        "def load(ROOT):\n",
        "    ''' load all of cifar '''\n",
        "    xs = []\n",
        "    ys = []\n",
        "    for b in range(1, 6):\n",
        "        f = os.path.join(ROOT, 'data_batch_%d' % (b, ))\n",
        "        X, Y = load_CIFAR_batch(f)\n",
        "        xs.append(X)\n",
        "        ys.append(Y)\n",
        "    Xtr = np.concatenate(xs)\n",
        "    Ytr = np.concatenate(ys)\n",
        "    del X, Y\n",
        "    Xte, Yte = load_CIFAR_batch(os.path.join(ROOT, 'test_batch'))\n",
        "    return Xtr, Ytr, Xte, Yte"
      ],
      "metadata": {
        "id": "GZuJy7cf6SGz"
      }
    },
    {
      "cell_type": "markdown",
      "metadata": {
        "hidden": true,
        "id": "0qfmwr8lG3S8"
      },
      "source": [
        "## Data Download\n",
        "\n",
        "The next cell will download and extract CIFAR-10 into `datasets/cifar10/`. The CIFAR-10 dataset consists of 60,000 32x32 color images in 10 classes, with 6,000 images per class. There are 50,000 training images and 10,000 test images. The dataset is divided into five training batches and one test batch, each with 10,000 images. The test batch contains exactly 1,000 randomly-selected images from each class.\n"
      ]
    },
    {
      "cell_type": "code",
      "execution_count": null,
      "metadata": {
        "ExecuteTime": {
          "end_time": "2022-10-29T15:21:01.686261Z",
          "start_time": "2022-10-29T15:21:01.675796Z"
        },
        "colab": {
          "base_uri": "https://localhost:8080/"
        },
        "hidden": true,
        "id": "eBbBnxJpET8L",
        "outputId": "d46e6758-27e7-4059-bdc8-2cf18b230984"
      },
      "outputs": [
        {
          "output_type": "stream",
          "name": "stdout",
          "text": [
            "Downloading, This might take several minutes.\n",
            "\n",
            "Download finished. Extracting files.\n",
            "Done.\n"
          ]
        }
      ],
      "source": [
        "# this cell will download the data if it does not exists\n",
        "URL = \"https://www.cs.toronto.edu/~kriz/cifar-10-python.tar.gz\"\n",
        "PATH = 'datasets/cifar10/' # the script will create required directories\n",
        "maybe_download_and_extract(URL, PATH)"
      ]
    },
    {
      "cell_type": "markdown",
      "metadata": {
        "hidden": true,
        "id": "AIyo61vC-Dmv"
      },
      "source": [
        "## Data Preprocessing Part 1"
      ]
    },
    {
      "cell_type": "markdown",
      "metadata": {
        "hidden": true,
        "id": "ersTr2wB-RAd"
      },
      "source": [
        "We have included several image processing functions. Notice the following in particular: we created an additional validation dataset you need to use for hyperparameter optimization."
      ]
    },
    {
      "cell_type": "code",
      "execution_count": null,
      "metadata": {
        "ExecuteTime": {
          "end_time": "2022-10-29T15:21:05.097768Z",
          "start_time": "2022-10-29T15:21:03.341893Z"
        },
        "hidden": true,
        "id": "NFUWV8LnET8M"
      },
      "outputs": [],
      "source": [
        "CIFAR10_PATH = os.path.join(PATH, 'cifar-10-batches-py')\n",
        "X_train, y_train, X_test, y_test = load(CIFAR10_PATH) # load the entire data\n",
        "\n",
        "# taking only two classes from the dataset\n",
        "X_train = X_train[np.logical_or(y_train == 0, y_train == 1)]\n",
        "y_train = y_train[np.logical_or(y_train == 0, y_train == 1)]\n",
        "X_test = X_test[np.logical_or(y_test == 0, y_test == 1)]\n",
        "y_test = y_test[np.logical_or(y_test == 0, y_test == 1)]\n",
        "\n",
        "# define a splitting for the data\n",
        "num_training = 10000\n",
        "num_validation = 1000\n",
        "num_testing = 1000\n",
        "\n",
        "mask = range(num_training)\n",
        "X_train = X_train[mask]\n",
        "y_train = y_train[mask]\n",
        "# portion from the test dataset a validation dataset for hyperparameter optimization\n",
        "mask = range(num_validation)\n",
        "X_val = X_test[mask]\n",
        "y_val = y_test[mask]\n",
        "# test dataset, without overlap with train/validation\n",
        "mask = range(num_validation, num_validation+num_testing)\n",
        "X_test = X_test[mask]\n",
        "y_test = y_test[mask]\n",
        "\n",
        "# float64\n",
        "X_train = X_train.astype(np.float64)\n",
        "X_val = X_val.astype(np.float64)\n",
        "X_test = X_test.astype(np.float64)\n",
        "\n",
        "classes = ('plane', 'car')"
      ]
    },
    {
      "cell_type": "code",
      "execution_count": null,
      "metadata": {
        "ExecuteTime": {
          "end_time": "2022-10-29T15:21:05.911006Z",
          "start_time": "2022-10-29T15:21:05.755837Z"
        },
        "colab": {
          "base_uri": "https://localhost:8080/",
          "height": 138
        },
        "hidden": true,
        "id": "Daycmt2x5cVS",
        "outputId": "f272a977-4c6c-4aa5-d90e-da577ef1864c"
      },
      "outputs": [
        {
          "output_type": "stream",
          "name": "stdout",
          "text": [
            "    plane\t      car\t      car\t    plane\n"
          ]
        },
        {
          "output_type": "display_data",
          "data": {
            "text/plain": [
              "<Figure size 360x216 with 1 Axes>"
            ],
            "image/png": "[encoded data removed]"
          },
          "metadata": {
            "needs_background": "light"
          }
        }
      ],
      "source": [
        "def get_batch(X, y, n=1000):\n",
        "    rand_items = np.random.randint(0, X.shape[0], size=n)\n",
        "    images = X[rand_items]\n",
        "    labels = y[rand_items]\n",
        "    return images, labels\n",
        "\n",
        "def make_random_grid(x, y, n=4, convert_to_image=True, random_flag=True):\n",
        "    if random_flag:\n",
        "        rand_items = np.random.randint(0, x.shape[0], size=n)\n",
        "    else:\n",
        "        rand_items = np.arange(0, x.shape[0])\n",
        "    images = x[rand_items]\n",
        "    labels = y[rand_items]\n",
        "    if convert_to_image:\n",
        "        grid = np.hstack(np.array([np.asarray((vec_2_img(i) + mean_image), dtype=np.int64) for i in images]))\n",
        "    else:\n",
        "        grid = np.hstack(np.array([np.asarray(i, dtype=np.int64) for i in images]))\n",
        "    print('\\t'.join('%9s' % classes[labels[j]] for j in range(n)))\n",
        "    return grid\n",
        "\n",
        "def vec_2_img(x):\n",
        "    x = np.reshape(x[:-1], (32, 32, 3))\n",
        "    return x\n",
        "\n",
        "X_batch, y_batch = get_batch(X_test, y_test, 100)\n",
        "plt.imshow(make_random_grid(X_batch, y_batch, n=4, convert_to_image=False));"
      ]
    },
    {
      "cell_type": "markdown",
      "metadata": {
        "hidden": true,
        "id": "RhismcUO9-xk"
      },
      "source": [
        "## Data Preprocessing Part 2\n",
        "\n",
        "We have included several image processing functions. Notice the following in particular: We subtracted the mean from all the images in order to ignore illumination conditions while keeping the content of the image. Next, we flattened the images from a tensor of shape (32x32x3) to a vector with 3072 features (pixel values) so we would be able to use a simple matrix multiplication. Finally, we concatenated each image vector with an additional feature to account for the bias. This is known as the bias trick.\n",
        "\n",
        "Make sure you understand this image processing pipeline before diving into the rest of the code."
      ]
    },
    {
      "cell_type": "code",
      "execution_count": null,
      "metadata": {
        "ExecuteTime": {
          "end_time": "2022-10-29T15:21:06.836277Z",
          "start_time": "2022-10-29T15:21:06.555473Z"
        },
        "colab": {
          "base_uri": "https://localhost:8080/"
        },
        "hidden": true,
        "id": "C9YCYi5KZhXD",
        "outputId": "ee9f3378-ec1a-42e8-db81-fdc80db6eb5d"
      },
      "outputs": [
        {
          "output_type": "stream",
          "name": "stdout",
          "text": [
            "Shape of Training Set: (10000, 3073)\n",
            "Shape of Validation Set: (1000, 3073)\n",
            "Shape of Test Set: (1000, 3073)\n"
          ]
        }
      ],
      "source": [
        "# Final data preprocessing\n",
        "# subtract the mean from all the images in the batch\n",
        "mean_image = np.mean(X_train, axis=0)\n",
        "X_train -= mean_image\n",
        "X_val -= mean_image\n",
        "X_test -= mean_image\n",
        "\n",
        "# flatten all the images in the batch (make sure you understand why this is needed)\n",
        "X_train = np.reshape(X_train, newshape=(X_train.shape[0], -1))\n",
        "X_val = np.reshape(X_val, newshape=(X_val.shape[0], -1))\n",
        "X_test = np.reshape(X_test, newshape=(X_test.shape[0], -1))\n",
        "\n",
        "# add a bias term to all images in the batch\n",
        "X_train = np.hstack([X_train, np.ones((X_train.shape[0], 1))])\n",
        "X_val = np.hstack([X_val, np.ones((X_val.shape[0], 1))])\n",
        "X_test = np.hstack([X_test, np.ones((X_test.shape[0], 1))])\n",
        "\n",
        "print(f\"Shape of Training Set: {X_train.shape}\")\n",
        "print(f\"Shape of Validation Set: {X_val.shape}\")\n",
        "print(f\"Shape of Test Set: {X_test.shape}\")"
      ]
    },
    {
      "cell_type": "markdown",
      "metadata": {
        "id": "1BX0bVW0ET8N"
      },
      "source": [
        "# Linear classifier: mapping images to scores\n",
        "\n",
        "During this exercise, we will maintain a python class with basic functionality (such as training the model). the linear classifiers we will build (perceptron, logistic regression) will inherit some functionality from that class and will change several functions (such as the loss function, for example). Read the code in the next cell and make sure you understand it. You might also find this [short classes in python tutorial](https://www.hackerearth.com/practice/python/object-oriented-programming/classes-and-objects-i/tutorial/) useful.\n"
      ]
    },
    {
      "cell_type": "code",
      "execution_count": null,
      "metadata": {
        "ExecuteTime": {
          "end_time": "2022-10-29T15:21:15.523094Z",
          "start_time": "2022-10-29T15:21:15.502785Z"
        },
        "id": "FXAVk7l6LVty"
      },
      "outputs": [],
      "source": [
        "class LinearClassifier(object):\n",
        "    def __init__(self, X, y):\n",
        "        \"\"\"\n",
        "        Class constructor. Use this method to initiate the parameters of\n",
        "        your model (W)\n",
        "        *** Subclasses will override this. ***\n",
        "\n",
        "        Inputs:\n",
        "        - X: array of data\n",
        "        - y: 1-dimensional array of length N with binary labels\n",
        "\n",
        "        This function has no return value\n",
        "\n",
        "        \"\"\"\n",
        "        self.W = None\n",
        "\n",
        "    def predict(self, X):\n",
        "        \"\"\"\n",
        "        Use the weight of the classifier to predict a label.\n",
        "        *** Subclasses will override this. ***\n",
        "\n",
        "        Input: 2D array of size (num_instances, num_features).\n",
        "        Output: 1D array of class predictions (num_instances, 1).\n",
        "        \"\"\"\n",
        "        m, n = X.shape\n",
        "        y_pred = np.dot(X, self.W)\n",
        "        return y_pred\n",
        "\n",
        "    def calc_accuracy(self, X, y):\n",
        "        \"\"\"\n",
        "        Calculate the accuracy on a dataset as the percentage of instances\n",
        "        that are classified correctly.\n",
        "\n",
        "        Inputs:\n",
        "        - W: array of weights\n",
        "        - X: array of data\n",
        "        - y: 1-dimensional array of length N with binary labels\n",
        "        Returns:\n",
        "        - accuracy as a single float\n",
        "        \"\"\"\n",
        "\n",
        "        predictions = self.predict(X)\n",
        "        accuracy = np.mean(predictions == y)*100\n",
        "\n",
        "        return accuracy\n",
        "\n",
        "    def train(self, X, y, learning_rate=1e-3, num_iters=100, batch_size=200, verbose=False):\n",
        "        m, n = X.shape\n",
        "        num_instances = m\n",
        "        num_of_classes = np.max(y) + 1\n",
        "        loss_history = []\n",
        "        if self.W is None:\n",
        "            self.W = np.randn(m, num_of_classes)\n",
        "        for i in range(num_iters):\n",
        "            batch_indices = np.random.choice(n, size=batch_size, replace=True)\n",
        "            X_batch = X[batch_indices, :]\n",
        "            Y_batch = y[batch_indices]\n",
        "\n",
        "            curr_loss, dw = self.loss(X_batch, Y_batch)\n",
        "            loss_history.append(curr_loss)\n",
        "\n",
        "            self.W = self.W - learning_rate*dw\n",
        "\n",
        "            if verbose and i % 100 == 0:\n",
        "                print ('iteration %d / %d: loss %f' % (i, num_iters, curr_loss))\n",
        "\n",
        "        return loss_history\n",
        "\n",
        "    def loss(self, X, y):\n",
        "        \"\"\"\n",
        "        Compute the loss function and its derivative.\n",
        "        Subclasses will override this.\n",
        "        Inputs:\n",
        "        - X_batch: A numpy array of shape (N, D) containing a minibatch of N\n",
        "          data points; each point has dimension D.\n",
        "        - y_batch: A numpy array of shape (N,) containing labels for the minibatch.\n",
        "        Returns: A tuple containing:\n",
        "        - loss as a single float\n",
        "        - gradient with respect to self.W; an array of the same shape as W\n",
        "        \"\"\"\n",
        "        pass\n"
      ]
    },
    {
      "cell_type": "markdown",
      "metadata": {
        "id": "p9WqAhlmLMGU"
      },
      "source": [
        "## Linear perceptron\n",
        "Our first linear classifier will include a linear function that maps images to scores:\n",
        "\n",
        "$$\n",
        "f(x_i; W, b) = W\\cdot x_i + b\n",
        "$$\n",
        "\n",
        "As you learned in class, this linear classifier takes an input image $x_i$ and outputs a class score. Your goal is to **learn** the parameters $W$ and $b$ to best classify the images according to the provided labels. The linear perceptron is set up so that the perceptron learn to map the correct class for each image such that it will have a score higher than the incorrect class.\n",
        "\n",
        "Read the next code cell. The constructor of the `LinearPerceptron` class takes as input the dataset and labels in order to create appropriate parameters. Notice we are using the bias trick and only use the matrix `w` for convenience. Since we already have a (random) model, we can start predicting classes on images. Complete the method `predict` in the `LinearPerceptron` class. **(5 Points)**"
      ]
    },
    {
      "cell_type": "code",
      "execution_count": null,
      "metadata": {
        "ExecuteTime": {
          "end_time": "2022-10-29T15:21:38.587623Z",
          "start_time": "2022-10-29T15:21:38.576532Z"
        },
        "id": "cfLTGvYILcJw"
      },
      "outputs": [],
      "source": [
        "class LinearPerceptron(LinearClassifier):\n",
        "    # Classifier that uses Perceptron loss\n",
        "\n",
        "    def __init__(self, X, y):\n",
        "        super().__init__(X, y)\n",
        "        self.W = np.random.randn(X.shape[1],1)*0.0001\n",
        "\n",
        "    def predict(self, X):\n",
        "        y_pred = LinearClassifier.predict(self, X)\n",
        "        y_pred = (np.sign(y_pred) > 0).astype(int)\n",
        "        return np.squeeze(y_pred)\n",
        "\n",
        "    def loss(self, X_batch, y_batch):\n",
        "        return perceptron_loss_vectorized(self.W, X_batch, y_batch)\n"
      ]
    },
    {
      "cell_type": "code",
      "execution_count": null,
      "metadata": {
        "ExecuteTime": {
          "end_time": "2022-10-29T15:21:40.039042Z",
          "start_time": "2022-10-29T15:21:39.994118Z"
        },
        "id": "2cb3cgLeET8N",
        "colab": {
          "base_uri": "https://localhost:8080/"
        },
        "outputId": "7e703837-2604-4ce5-8890-a78cd1817831"
      },
      "outputs": [
        {
          "output_type": "stream",
          "name": "stdout",
          "text": [
            "1000\n"
          ]
        }
      ],
      "source": [
        "classifier = LinearPerceptron(X_train, y_train)\n",
        "y_pred = classifier.predict(X_test)\n",
        "print(len(y_pred))"
      ]
    },
    {
      "cell_type": "code",
      "execution_count": null,
      "metadata": {
        "ExecuteTime": {
          "end_time": "2022-10-29T15:21:41.067042Z",
          "start_time": "2022-10-29T15:21:40.894184Z"
        },
        "colab": {
          "base_uri": "https://localhost:8080/",
          "height": 138
        },
        "id": "w2Cv7adkET8N",
        "outputId": "04094698-1df7-421d-d32c-9a8564e1acd6"
      },
      "outputs": [
        {
          "output_type": "stream",
          "name": "stdout",
          "text": [
            "      car\t    plane\t    plane\t      car\n"
          ]
        },
        {
          "output_type": "display_data",
          "data": {
            "text/plain": [
              "<Figure size 360x216 with 1 Axes>"
            ],
            "image/png": "[encoded data removed]"
          },
          "metadata": {
            "needs_background": "light"
          }
        }
      ],
      "source": [
        "X_batch, y_batch = get_batch(X_train, y_train, 4)\n",
        "plt.imshow(make_random_grid(X_batch, y_batch))\n",
        "plt.show()"
      ]
    },
    {
      "cell_type": "code",
      "execution_count": null,
      "metadata": {
        "ExecuteTime": {
          "end_time": "2022-10-29T15:21:42.911853Z",
          "start_time": "2022-10-29T15:21:42.897375Z"
        },
        "colab": {
          "base_uri": "https://localhost:8080/"
        },
        "id": "BKUh3OFFET8N",
        "outputId": "bc992f4d-54d4-477a-f4cc-09dc3ab8e240"
      },
      "outputs": [
        {
          "output_type": "stream",
          "name": "stdout",
          "text": [
            "      car       car     plane     plane\n"
          ]
        }
      ],
      "source": [
        "# predictions\n",
        "print(' '.join('%9s' % classes[y_pred[j]] for j in range(4)))"
      ]
    },
    {
      "cell_type": "markdown",
      "metadata": {
        "id": "N-1RXh-lET8O"
      },
      "source": [
        "## Evaluation\n",
        "\n",
        "Complete the class method `calc_accuracy`. **(5 Points)**"
      ]
    },
    {
      "cell_type": "code",
      "execution_count": null,
      "metadata": {
        "ExecuteTime": {
          "end_time": "2022-10-29T15:23:38.099891Z",
          "start_time": "2022-10-29T15:23:38.029739Z"
        },
        "colab": {
          "base_uri": "https://localhost:8080/"
        },
        "id": "IiSJ5-wvET8O",
        "outputId": "c2fd7ce1-787b-47f5-853c-a76aaf8d54f4"
      },
      "outputs": [
        {
          "output_type": "stream",
          "name": "stdout",
          "text": [
            "model accuracy:  61.69\n"
          ]
        }
      ],
      "source": [
        "print(\"model accuracy: \", classifier.calc_accuracy(X_train, y_train))"
      ]
    },
    {
      "cell_type": "markdown",
      "metadata": {
        "id": "fAFp3MOYET8O"
      },
      "source": [
        "**Explain why the accuracy on the training dataset is around 50% (remember, the model is not trained yet). **(5 Points)****\n",
        "\n",
        "Answer: We implemented a binary classifier, for each input the model can return either 1 or 0. When not trained it's a random classifier, the probability to randomly classify N inputs as 1/0 for N goes to infinity should be 50% (just like flipping a coin)."
      ]
    },
    {
      "cell_type": "markdown",
      "metadata": {
        "id": "kuFKR-UKET8O"
      },
      "source": [
        "## Perceptron loss\n",
        "\n",
        "Your code for this section will all be written in the next cell. In this section, we write and test code outside the classes for convenience. Notice the loss method for each class is just a call for the loss function written in the next cell. Once you are finished with implementation, everything should work.\n",
        "\n",
        "First, complete the function `perceptron_loss_naive`. This function takes as input the weights, data, labels and outputs the calculated loss as a single number and the gradients with respect to W.  **(15 points)**"
      ]
    },
    {
      "cell_type": "code",
      "execution_count": null,
      "metadata": {
        "ExecuteTime": {
          "end_time": "2022-10-29T15:23:57.192000Z",
          "start_time": "2022-10-29T15:23:57.177408Z"
        },
        "id": "McEGmknNYFXC"
      },
      "outputs": [],
      "source": [
        "def perceptron_loss_naive(W, X, y):\n",
        "    \"\"\"\n",
        "    Structured perceptron loss function, naive implementation (with loops)\n",
        "    Inputs:\n",
        "    - W: array of weights\n",
        "    - X: array of data\n",
        "    - y: 1-dimensional array of length N with labels 0...K-1, for K classes\n",
        "    Returns:\n",
        "    a tuple of:\n",
        "    - loss as single float\n",
        "    - gradient with respect to weights W; an array of same shape as W\n",
        "    \"\"\"\n",
        "    loss = 0.0\n",
        "    dW = np.zeros(W.shape) # initialize the gradient as zero\n",
        "    m, n = X.shape\n",
        "    K = np.max(y) + 1\n",
        "    if K == 1 or K==2:\n",
        "        K = 2\n",
        "    if K == 2:\n",
        "        for i in range(m):\n",
        "            y_pred_score = np.dot(W.T, X[i])\n",
        "            signed_target = np.sign(y_pred_score)\n",
        "            target = (signed_target > 0).astype(int)\n",
        "            if y[i] != target:\n",
        "                if y[i] == 0:\n",
        "                    loss += max(0, y_pred_score)\n",
        "                    dW += X[i].reshape(-1,1)\n",
        "                else:\n",
        "                    loss += max(0, -y_pred_score)\n",
        "                    dW += -X[i].reshape(-1,1)\n",
        "    else:\n",
        "        for i in range(m):\n",
        "            y_pred_scores = np.dot(W.T, X[i])\n",
        "            correct_class_score = y_pred_scores[y]\n",
        "            for j in range(K):\n",
        "                if j != y[i]:\n",
        "                    if y_pred_scores[j] - correct_class_score > 0:\n",
        "                        loss += y_pred_score[j] - correct_class_score\n",
        "                        dW[j] += X[i].reshape(-1,1)\n",
        "                        dW[y[i]] += -X[i].reshape(-1,1)\n",
        "    return loss/m, dW/m"
      ]
    },
    {
      "cell_type": "code",
      "execution_count": null,
      "metadata": {
        "ExecuteTime": {
          "end_time": "2022-10-29T15:23:58.297179Z",
          "start_time": "2022-10-29T15:23:58.278906Z"
        },
        "id": "tGcQrlGJET8O"
      },
      "outputs": [],
      "source": [
        "W = np.random.randn(3073, 1) * 0.0001"
      ]
    },
    {
      "cell_type": "code",
      "execution_count": null,
      "metadata": {
        "ExecuteTime": {
          "end_time": "2022-10-29T15:23:59.483591Z",
          "start_time": "2022-10-29T15:23:59.450741Z"
        },
        "colab": {
          "base_uri": "https://localhost:8080/"
        },
        "id": "UKmH67DEET8O",
        "outputId": "16b8b8b2-2668-4e5b-94ab-fa33570da4cd"
      },
      "outputs": [
        {
          "output_type": "stream",
          "name": "stdout",
          "text": [
            "loss: 0.079073\n",
            "CPU times: user 16.8 ms, sys: 0 ns, total: 16.8 ms\n",
            "Wall time: 17.5 ms\n"
          ]
        }
      ],
      "source": [
        "%%time\n",
        "loss_naive, grad_naive = perceptron_loss_naive(W, X_val, y_val)\n",
        "print ('loss: %f' % (loss_naive, ))"
      ]
    },
    {
      "cell_type": "markdown",
      "metadata": {
        "id": "Z-Hh-R7bET8P"
      },
      "source": [
        "Once your code works, complete the function `perceptron_loss_vectorized` and compare the results of the two functions using the cell below. **(15 points)**"
      ]
    },
    {
      "cell_type": "code",
      "execution_count": null,
      "metadata": {
        "ExecuteTime": {
          "end_time": "2022-10-29T15:24:11.592697Z",
          "start_time": "2022-10-29T15:24:11.576004Z"
        },
        "id": "w1HLNSCWYIRK"
      },
      "outputs": [],
      "source": [
        "def perceptron_loss_vectorized(W, X, y):\n",
        "    \"\"\"\n",
        "    Vectorized version of perceptron_loss_naive. instead of loops, should use\n",
        "    numpy vectorization.\n",
        "\n",
        "    Inputs and outputs are the same as perceptron_loss_naive.\n",
        "    \"\"\"\n",
        "    loss = 0.0\n",
        "    dW = np.zeros(W.shape) # initialize the gradient as zero\n",
        "    m, n = X.shape\n",
        "    K = np.max(y) + 1\n",
        "    if K == 1 or K==2:\n",
        "        K = 2\n",
        "    if K == 2:\n",
        "        y_pred_scores = np.dot(X, W)\n",
        "        signed_targets = np.sign(y_pred_scores)\n",
        "        targets = (signed_targets > 0).astype(int)\n",
        "        signed_targets[targets != y.reshape(-1,1)] = -signed_targets[targets != y.reshape(-1,1)]\n",
        "        punishment = np.maximum(0, -signed_targets*y_pred_scores)\n",
        "        loss = np.sum(punishment)\n",
        "        signed_targets[punishment == 0] = 0\n",
        "        dW = np.dot(-signed_targets.reshape(-1,1).T, X).T\n",
        "    else:\n",
        "        y_pred_scores = np.dot(X, W)\n",
        "        true_scores = y_pred_scores[y]\n",
        "        margins = np.maximum(0, y_pred_scores-true_scores)\n",
        "        margins[y] = 0\n",
        "        loss = np.sum(margins)\n",
        "        relevant_examples = signed_targets[punishment != 0]\n",
        "        indices = np.where(punishment != 0)\n",
        "        relevant_matrices = np.take(X, indices, axis=0)\n",
        "        dW = np.dot(-relevant_examples.reshape(-1,1).T, relevant_matrices[0]).reshape((W.shape[0], W.shape[1]))\n",
        "\n",
        "    return loss/m, dW/m"
      ]
    },
    {
      "cell_type": "code",
      "execution_count": null,
      "metadata": {
        "ExecuteTime": {
          "end_time": "2022-10-29T15:24:12.996442Z",
          "start_time": "2022-10-29T15:24:12.949777Z"
        },
        "colab": {
          "base_uri": "https://localhost:8080/"
        },
        "id": "_puMMu8vET8P",
        "outputId": "5ca571a3-21ca-40c3-9f13-7a8770dc3116",
        "scrolled": true
      },
      "outputs": [
        {
          "output_type": "stream",
          "name": "stdout",
          "text": [
            "loss: 0.079073\n",
            "difference: 0.000000\n",
            "CPU times: user 14.1 ms, sys: 3.09 ms, total: 17.2 ms\n",
            "Wall time: 14.5 ms\n"
          ]
        }
      ],
      "source": [
        "%%time\n",
        "\n",
        "loss_vectorized, grad_vectorized = perceptron_loss_vectorized(W, X_val, y_val)\n",
        "print ('loss: %f' % (loss_vectorized, ))\n",
        "\n",
        "difference = np.linalg.norm(grad_naive - grad_vectorized)\n",
        "print ('difference: %f' % difference)"
      ]
    },
    {
      "cell_type": "markdown",
      "metadata": {
        "id": "E6oNHXGHET8P"
      },
      "source": [
        "You might not see big changes in time due to other computing factors. In big enough datasets it would be crucial to use the vectorized version.\n",
        "\n",
        "We have obtained an efficient function for loss and gradient calculation and we can now train our network. Complete the function `train` in the `LinearClassifier` class. (**15 points**)"
      ]
    },
    {
      "cell_type": "code",
      "execution_count": null,
      "metadata": {
        "ExecuteTime": {
          "end_time": "2022-10-29T15:24:38.956156Z",
          "start_time": "2022-10-29T15:24:31.984850Z"
        },
        "colab": {
          "base_uri": "https://localhost:8080/"
        },
        "id": "_QtvCxghET8P",
        "outputId": "1193747c-f3e7-4dea-e05f-5b6243417201"
      },
      "outputs": [
        {
          "output_type": "stream",
          "name": "stdout",
          "text": [
            "iteration 0 / 1500: loss 0.097970\n",
            "iteration 100 / 1500: loss 0.035069\n",
            "iteration 200 / 1500: loss 0.030175\n",
            "iteration 300 / 1500: loss 0.027619\n",
            "iteration 400 / 1500: loss 0.019918\n",
            "iteration 500 / 1500: loss 0.017460\n",
            "iteration 600 / 1500: loss 0.013292\n",
            "iteration 700 / 1500: loss 0.017023\n",
            "iteration 800 / 1500: loss 0.012697\n",
            "iteration 900 / 1500: loss 0.012358\n",
            "iteration 1000 / 1500: loss 0.010707\n",
            "iteration 1100 / 1500: loss 0.012301\n",
            "iteration 1200 / 1500: loss 0.012300\n",
            "iteration 1300 / 1500: loss 0.006441\n",
            "iteration 1400 / 1500: loss 0.008800\n",
            "CPU times: user 3.21 s, sys: 2.43 s, total: 5.64 s\n",
            "Wall time: 2.98 s\n"
          ]
        }
      ],
      "source": [
        "%%time\n",
        "perceptron = LinearPerceptron(X_train, y_train)\n",
        "loss_history = perceptron.train(X_train, y_train, learning_rate=1e-7,\n",
        "                                num_iters=1500, verbose=True)"
      ]
    },
    {
      "cell_type": "code",
      "execution_count": null,
      "metadata": {
        "ExecuteTime": {
          "end_time": "2022-10-29T15:24:39.656566Z",
          "start_time": "2022-10-29T15:24:39.516553Z"
        },
        "colab": {
          "base_uri": "https://localhost:8080/",
          "height": 225
        },
        "id": "_jzvksCFET8P",
        "outputId": "46f6b1e2-149a-43af-fd20-38b0b72ce05c",
        "scrolled": false
      },
      "outputs": [
        {
          "output_type": "display_data",
          "data": {
            "text/plain": [
              "<Figure size 360x216 with 1 Axes>"
            ],
            "image/png": "[encoded data removed]"
          },
          "metadata": {
            "needs_background": "light"
          }
        }
      ],
      "source": [
        "plt.plot(loss_history)\n",
        "plt.xlabel('Iteration number')\n",
        "plt.ylabel('Loss value')\n",
        "plt.show()"
      ]
    },
    {
      "cell_type": "code",
      "execution_count": null,
      "metadata": {
        "ExecuteTime": {
          "end_time": "2022-10-29T15:24:40.310924Z",
          "start_time": "2022-10-29T15:24:40.267510Z"
        },
        "colab": {
          "base_uri": "https://localhost:8080/"
        },
        "id": "eFNormxyET8P",
        "outputId": "9f8a10f9-458d-4bd6-df91-6cae97242872"
      },
      "outputs": [
        {
          "output_type": "stream",
          "name": "stdout",
          "text": [
            "Training accuracy:  76.72\n",
            "Testing accuracy:  75.9\n"
          ]
        }
      ],
      "source": [
        "print(\"Training accuracy: \", perceptron.calc_accuracy(X_train, y_train))\n",
        "print(\"Testing accuracy: \", perceptron.calc_accuracy(X_test, y_test))"
      ]
    },
    {
      "cell_type": "markdown",
      "metadata": {
        "id": "R277VSx8ET8P"
      },
      "source": [
        "## Hyperparameter optimization\n",
        "\n",
        "Your model should have improved from 50% accuracy to ~75% accuracy in a matter of seconds. Now, use the validation set to tune hyperparameters by training different models (using the training dataset) and evaluating the performance using the validation dataset. Save the results in a dictionary mapping tuples of the form `(learning_rate, batch_size)` to tuples of the form `(training_accuracy, validation_accuracy)`. Finally, you should evaluate the best model on the testing dataset.\n",
        "\n",
        "Use a small value for the number of iterations as you develop your code. Once you are confident that everything works, run it again for more iterations. **(5 points)**\n"
      ]
    },
    {
      "cell_type": "code",
      "execution_count": null,
      "metadata": {
        "ExecuteTime": {
          "end_time": "2022-10-29T15:28:28.780040Z",
          "start_time": "2022-10-29T15:27:34.777137Z"
        },
        "colab": {
          "base_uri": "https://localhost:8080/"
        },
        "id": "m_g5iSBQET8Q",
        "outputId": "0bcdde0b-091e-45ef-dea8-04633d8f896a"
      },
      "outputs": [
        {
          "output_type": "stream",
          "name": "stdout",
          "text": [
            "iteration 0 / 1500: loss 0.091987\n",
            "iteration 100 / 1500: loss 0.000000\n",
            "iteration 200 / 1500: loss 0.154613\n",
            "iteration 300 / 1500: loss 0.223788\n",
            "iteration 400 / 1500: loss 0.000000\n",
            "iteration 500 / 1500: loss 0.072922\n",
            "iteration 600 / 1500: loss 0.000000\n",
            "iteration 700 / 1500: loss 0.000000\n",
            "iteration 800 / 1500: loss 0.000000\n",
            "iteration 900 / 1500: loss 0.000000\n",
            "iteration 1000 / 1500: loss 0.000000\n",
            "iteration 1100 / 1500: loss 0.000000\n",
            "iteration 1200 / 1500: loss 0.342456\n",
            "iteration 1300 / 1500: loss 0.000000\n",
            "iteration 1400 / 1500: loss 0.000000\n",
            "iteration 0 / 1500: loss 0.178838\n",
            "iteration 100 / 1500: loss 0.029353\n",
            "iteration 200 / 1500: loss 0.026759\n",
            "iteration 300 / 1500: loss 0.012157\n",
            "iteration 400 / 1500: loss 0.032899\n",
            "iteration 500 / 1500: loss 0.020765\n",
            "iteration 600 / 1500: loss 0.016753\n",
            "iteration 700 / 1500: loss 0.017013\n",
            "iteration 800 / 1500: loss 0.012809\n",
            "iteration 900 / 1500: loss 0.016215\n",
            "iteration 1000 / 1500: loss 0.011313\n",
            "iteration 1100 / 1500: loss 0.011086\n",
            "iteration 1200 / 1500: loss 0.015648\n",
            "iteration 1300 / 1500: loss 0.013205\n",
            "iteration 1400 / 1500: loss 0.011068\n",
            "iteration 0 / 1500: loss 0.295097\n",
            "iteration 100 / 1500: loss 0.025393\n",
            "iteration 200 / 1500: loss 0.022423\n",
            "iteration 300 / 1500: loss 0.016711\n",
            "iteration 400 / 1500: loss 0.023485\n",
            "iteration 500 / 1500: loss 0.017537\n",
            "iteration 600 / 1500: loss 0.014472\n",
            "iteration 700 / 1500: loss 0.019451\n",
            "iteration 800 / 1500: loss 0.010732\n",
            "iteration 900 / 1500: loss 0.009995\n",
            "iteration 1000 / 1500: loss 0.011777\n",
            "iteration 1100 / 1500: loss 0.008395\n",
            "iteration 1200 / 1500: loss 0.007663\n",
            "iteration 1300 / 1500: loss 0.009363\n",
            "iteration 1400 / 1500: loss 0.006565\n",
            "iteration 0 / 1500: loss 0.152768\n",
            "iteration 100 / 1500: loss 0.035287\n",
            "iteration 200 / 1500: loss 0.024804\n",
            "iteration 300 / 1500: loss 0.021716\n",
            "iteration 400 / 1500: loss 0.018255\n",
            "iteration 500 / 1500: loss 0.015593\n",
            "iteration 600 / 1500: loss 0.017242\n",
            "iteration 700 / 1500: loss 0.014530\n",
            "iteration 800 / 1500: loss 0.011213\n",
            "iteration 900 / 1500: loss 0.008872\n",
            "iteration 1000 / 1500: loss 0.009637\n",
            "iteration 1100 / 1500: loss 0.008321\n",
            "iteration 1200 / 1500: loss 0.010816\n",
            "iteration 1300 / 1500: loss 0.009250\n",
            "iteration 1400 / 1500: loss 0.006800\n",
            "iteration 0 / 1500: loss 0.138487\n",
            "iteration 100 / 1500: loss 0.036211\n",
            "iteration 200 / 1500: loss 0.026910\n",
            "iteration 300 / 1500: loss 0.019991\n",
            "iteration 400 / 1500: loss 0.016521\n",
            "iteration 500 / 1500: loss 0.017496\n",
            "iteration 600 / 1500: loss 0.014948\n",
            "iteration 700 / 1500: loss 0.012028\n",
            "iteration 800 / 1500: loss 0.011640\n",
            "iteration 900 / 1500: loss 0.011088\n",
            "iteration 1000 / 1500: loss 0.010497\n",
            "iteration 1100 / 1500: loss 0.008738\n",
            "iteration 1200 / 1500: loss 0.007401\n",
            "iteration 1300 / 1500: loss 0.008419\n",
            "iteration 1400 / 1500: loss 0.007280\n",
            "iteration 0 / 1500: loss 0.093703\n",
            "iteration 100 / 1500: loss 0.000000\n",
            "iteration 200 / 1500: loss 6.789620\n",
            "iteration 300 / 1500: loss 0.000000\n",
            "iteration 400 / 1500: loss 0.000000\n",
            "iteration 500 / 1500: loss 0.000000\n",
            "iteration 600 / 1500: loss 0.000000\n",
            "iteration 700 / 1500: loss 0.000000\n",
            "iteration 800 / 1500: loss 0.000000\n",
            "iteration 900 / 1500: loss 0.000000\n",
            "iteration 1000 / 1500: loss 0.000000\n",
            "iteration 1100 / 1500: loss 0.000000\n",
            "iteration 1200 / 1500: loss 0.000000\n",
            "iteration 1300 / 1500: loss 0.000000\n",
            "iteration 1400 / 1500: loss 0.000000\n",
            "iteration 0 / 1500: loss 0.261973\n",
            "iteration 100 / 1500: loss 0.562959\n",
            "iteration 200 / 1500: loss 0.209417\n",
            "iteration 300 / 1500: loss 0.473624\n",
            "iteration 400 / 1500: loss 0.228471\n",
            "iteration 500 / 1500: loss 0.344834\n",
            "iteration 600 / 1500: loss 0.219200\n",
            "iteration 700 / 1500: loss 0.046412\n",
            "iteration 800 / 1500: loss 0.274320\n",
            "iteration 900 / 1500: loss 0.218611\n",
            "iteration 1000 / 1500: loss 0.088341\n",
            "iteration 1100 / 1500: loss 0.177844\n",
            "iteration 1200 / 1500: loss 0.826070\n",
            "iteration 1300 / 1500: loss 0.155484\n",
            "iteration 1400 / 1500: loss 0.066038\n",
            "iteration 0 / 1500: loss 0.145817\n",
            "iteration 100 / 1500: loss 0.231243\n",
            "iteration 200 / 1500: loss 0.486011\n",
            "iteration 300 / 1500: loss 0.356758\n",
            "iteration 400 / 1500: loss 0.394337\n",
            "iteration 500 / 1500: loss 0.128781\n",
            "iteration 600 / 1500: loss 0.189592\n",
            "iteration 700 / 1500: loss 0.319302\n",
            "iteration 800 / 1500: loss 0.101487\n",
            "iteration 900 / 1500: loss 0.192789\n",
            "iteration 1000 / 1500: loss 0.257659\n",
            "iteration 1100 / 1500: loss 0.409102\n",
            "iteration 1200 / 1500: loss 0.068903\n",
            "iteration 1300 / 1500: loss 0.331860\n",
            "iteration 1400 / 1500: loss 0.744663\n",
            "iteration 0 / 1500: loss 0.127814\n",
            "iteration 100 / 1500: loss 0.181972\n",
            "iteration 200 / 1500: loss 0.105217\n",
            "iteration 300 / 1500: loss 0.151307\n",
            "iteration 400 / 1500: loss 0.454406\n",
            "iteration 500 / 1500: loss 0.156878\n",
            "iteration 600 / 1500: loss 0.123147\n",
            "iteration 700 / 1500: loss 0.124958\n",
            "iteration 800 / 1500: loss 0.089167\n",
            "iteration 900 / 1500: loss 0.479346\n",
            "iteration 1000 / 1500: loss 0.134181\n",
            "iteration 1100 / 1500: loss 0.098810\n",
            "iteration 1200 / 1500: loss 0.617895\n",
            "iteration 1300 / 1500: loss 0.187384\n",
            "iteration 1400 / 1500: loss 0.119116\n",
            "iteration 0 / 1500: loss 0.106877\n",
            "iteration 100 / 1500: loss 1.779096\n",
            "iteration 200 / 1500: loss 0.088062\n",
            "iteration 300 / 1500: loss 0.532308\n",
            "iteration 400 / 1500: loss 0.281674\n",
            "iteration 500 / 1500: loss 0.138455\n",
            "iteration 600 / 1500: loss 0.705311\n",
            "iteration 700 / 1500: loss 0.440110\n",
            "iteration 800 / 1500: loss 0.150810\n",
            "iteration 900 / 1500: loss 0.167776\n",
            "iteration 1000 / 1500: loss 0.169842\n",
            "iteration 1100 / 1500: loss 0.069402\n",
            "iteration 1200 / 1500: loss 0.081498\n",
            "iteration 1300 / 1500: loss 0.068573\n",
            "iteration 1400 / 1500: loss 0.509577\n",
            "iteration 0 / 1500: loss 0.295989\n",
            "iteration 100 / 1500: loss 0.000000\n",
            "iteration 200 / 1500: loss 0.000000\n",
            "iteration 300 / 1500: loss 0.000000\n",
            "iteration 400 / 1500: loss 0.000000\n",
            "iteration 500 / 1500: loss 0.000000\n",
            "iteration 600 / 1500: loss 0.000000\n",
            "iteration 700 / 1500: loss 0.000000\n",
            "iteration 800 / 1500: loss 54.053178\n",
            "iteration 900 / 1500: loss 3.218329\n",
            "iteration 1000 / 1500: loss 10.978762\n",
            "iteration 1100 / 1500: loss 16.975705\n",
            "iteration 1200 / 1500: loss 0.000000\n",
            "iteration 1300 / 1500: loss 0.000000\n",
            "iteration 1400 / 1500: loss 0.000000\n",
            "iteration 0 / 1500: loss 0.086103\n",
            "iteration 100 / 1500: loss 0.521808\n",
            "iteration 200 / 1500: loss 0.216395\n",
            "iteration 300 / 1500: loss 0.118313\n",
            "iteration 400 / 1500: loss 0.109566\n",
            "iteration 500 / 1500: loss 0.631704\n",
            "iteration 600 / 1500: loss 0.197237\n",
            "iteration 700 / 1500: loss 0.235994\n",
            "iteration 800 / 1500: loss 0.112646\n",
            "iteration 900 / 1500: loss 0.125242\n",
            "iteration 1000 / 1500: loss 0.045828\n",
            "iteration 1100 / 1500: loss 0.095044\n",
            "iteration 1200 / 1500: loss 0.469372\n",
            "iteration 1300 / 1500: loss 0.102008\n",
            "iteration 1400 / 1500: loss 0.167510\n",
            "iteration 0 / 1500: loss 0.111117\n",
            "iteration 100 / 1500: loss 0.153655\n",
            "iteration 200 / 1500: loss 0.141747\n",
            "iteration 300 / 1500: loss 0.056824\n",
            "iteration 400 / 1500: loss 0.130181\n",
            "iteration 500 / 1500: loss 0.068027\n",
            "iteration 600 / 1500: loss 0.111847\n",
            "iteration 700 / 1500: loss 0.088090\n",
            "iteration 800 / 1500: loss 0.123622\n",
            "iteration 900 / 1500: loss 0.192277\n",
            "iteration 1000 / 1500: loss 0.059220\n",
            "iteration 1100 / 1500: loss 0.113881\n",
            "iteration 1200 / 1500: loss 0.075518\n",
            "iteration 1300 / 1500: loss 0.123664\n",
            "iteration 1400 / 1500: loss 0.231186\n",
            "iteration 0 / 1500: loss 0.155351\n",
            "iteration 100 / 1500: loss 0.164467\n",
            "iteration 200 / 1500: loss 0.125199\n",
            "iteration 300 / 1500: loss 0.069162\n",
            "iteration 400 / 1500: loss 0.139921\n",
            "iteration 500 / 1500: loss 0.289723\n",
            "iteration 600 / 1500: loss 0.059828\n",
            "iteration 700 / 1500: loss 0.059883\n",
            "iteration 800 / 1500: loss 0.079417\n",
            "iteration 900 / 1500: loss 0.064245\n",
            "iteration 1000 / 1500: loss 0.077217\n",
            "iteration 1100 / 1500: loss 0.505975\n",
            "iteration 1200 / 1500: loss 0.072291\n",
            "iteration 1300 / 1500: loss 0.101589\n",
            "iteration 1400 / 1500: loss 0.442768\n",
            "iteration 0 / 1500: loss 0.106523\n",
            "iteration 100 / 1500: loss 0.499672\n",
            "iteration 200 / 1500: loss 0.101870\n",
            "iteration 300 / 1500: loss 0.122231\n",
            "iteration 400 / 1500: loss 0.066387\n",
            "iteration 500 / 1500: loss 0.449739\n",
            "iteration 600 / 1500: loss 0.320929\n",
            "iteration 700 / 1500: loss 0.059778\n",
            "iteration 800 / 1500: loss 0.108921\n",
            "iteration 900 / 1500: loss 0.054000\n",
            "iteration 1000 / 1500: loss 0.185893\n",
            "iteration 1100 / 1500: loss 0.148678\n",
            "iteration 1200 / 1500: loss 0.202189\n",
            "iteration 1300 / 1500: loss 0.327117\n",
            "iteration 1400 / 1500: loss 0.054041\n",
            "iteration 0 / 1500: loss 0.233708\n",
            "iteration 100 / 1500: loss 0.000000\n",
            "iteration 200 / 1500: loss 1.895016\n",
            "iteration 300 / 1500: loss 0.000000\n",
            "iteration 400 / 1500: loss 0.000000\n",
            "iteration 500 / 1500: loss 0.000000\n",
            "iteration 600 / 1500: loss 2.791952\n",
            "iteration 700 / 1500: loss 0.000000\n",
            "iteration 800 / 1500: loss 0.000000\n",
            "iteration 900 / 1500: loss 0.000000\n",
            "iteration 1000 / 1500: loss 4.306075\n",
            "iteration 1100 / 1500: loss 0.000000\n",
            "iteration 1200 / 1500: loss 0.000000\n",
            "iteration 1300 / 1500: loss 0.000000\n",
            "iteration 1400 / 1500: loss 0.384180\n",
            "iteration 0 / 1500: loss 0.109749\n",
            "iteration 100 / 1500: loss 0.026573\n",
            "iteration 200 / 1500: loss 0.018011\n",
            "iteration 300 / 1500: loss 0.024203\n",
            "iteration 400 / 1500: loss 0.043216\n",
            "iteration 500 / 1500: loss 0.007123\n",
            "iteration 600 / 1500: loss 0.085306\n",
            "iteration 700 / 1500: loss 0.015017\n",
            "iteration 800 / 1500: loss 0.015039\n",
            "iteration 900 / 1500: loss 0.010844\n",
            "iteration 1000 / 1500: loss 0.008683\n",
            "iteration 1100 / 1500: loss 0.005606\n",
            "iteration 1200 / 1500: loss 0.018094\n",
            "iteration 1300 / 1500: loss 0.044152\n",
            "iteration 1400 / 1500: loss 0.017783\n",
            "iteration 0 / 1500: loss 0.178653\n",
            "iteration 100 / 1500: loss 0.029297\n",
            "iteration 200 / 1500: loss 0.017217\n",
            "iteration 300 / 1500: loss 0.034833\n",
            "iteration 400 / 1500: loss 0.049920\n",
            "iteration 500 / 1500: loss 0.020203\n",
            "iteration 600 / 1500: loss 0.007924\n",
            "iteration 700 / 1500: loss 0.004972\n",
            "iteration 800 / 1500: loss 0.010455\n",
            "iteration 900 / 1500: loss 0.019568\n",
            "iteration 1000 / 1500: loss 0.007471\n",
            "iteration 1100 / 1500: loss 0.043408\n",
            "iteration 1200 / 1500: loss 0.017208\n",
            "iteration 1300 / 1500: loss 0.039339\n",
            "iteration 1400 / 1500: loss 0.051239\n",
            "iteration 0 / 1500: loss 0.185863\n",
            "iteration 100 / 1500: loss 0.021327\n",
            "iteration 200 / 1500: loss 0.021632\n",
            "iteration 300 / 1500: loss 0.014076\n",
            "iteration 400 / 1500: loss 0.041898\n",
            "iteration 500 / 1500: loss 0.019232\n",
            "iteration 600 / 1500: loss 0.010526\n",
            "iteration 700 / 1500: loss 0.012141\n",
            "iteration 800 / 1500: loss 0.016873\n",
            "iteration 900 / 1500: loss 0.019142\n",
            "iteration 1000 / 1500: loss 0.013265\n",
            "iteration 1100 / 1500: loss 0.019936\n",
            "iteration 1200 / 1500: loss 0.006144\n",
            "iteration 1300 / 1500: loss 0.021359\n",
            "iteration 1400 / 1500: loss 0.006986\n",
            "iteration 0 / 1500: loss 0.124784\n",
            "iteration 100 / 1500: loss 0.028191\n",
            "iteration 200 / 1500: loss 0.025655\n",
            "iteration 300 / 1500: loss 0.030058\n",
            "iteration 400 / 1500: loss 0.022747\n",
            "iteration 500 / 1500: loss 0.021246\n",
            "iteration 600 / 1500: loss 0.013669\n",
            "iteration 700 / 1500: loss 0.045697\n",
            "iteration 800 / 1500: loss 0.009633\n",
            "iteration 900 / 1500: loss 0.009503\n",
            "iteration 1000 / 1500: loss 0.008494\n",
            "iteration 1100 / 1500: loss 0.010631\n",
            "iteration 1200 / 1500: loss 0.006530\n",
            "iteration 1300 / 1500: loss 0.013172\n",
            "iteration 1400 / 1500: loss 0.008604\n",
            "lr 1.000000e-07 batch_size 1.000000e+00 train accuracy: 75.330000 val accuracy: 76.700000\n",
            "lr 1.000000e-07 batch_size 1.000000e+02 train accuracy: 76.400000 val accuracy: 76.600000\n",
            "lr 1.000000e-07 batch_size 2.000000e+02 train accuracy: 77.060000 val accuracy: 74.100000\n",
            "lr 1.000000e-07 batch_size 4.000000e+02 train accuracy: 76.630000 val accuracy: 77.000000\n",
            "lr 1.000000e-07 batch_size 5.000000e+02 train accuracy: 76.610000 val accuracy: 77.500000\n",
            "lr 3.000000e-07 batch_size 1.000000e+00 train accuracy: 77.970000 val accuracy: 78.800000\n",
            "lr 3.000000e-07 batch_size 1.000000e+02 train accuracy: 80.570000 val accuracy: 80.300000\n",
            "lr 3.000000e-07 batch_size 2.000000e+02 train accuracy: 77.660000 val accuracy: 77.200000\n",
            "lr 3.000000e-07 batch_size 4.000000e+02 train accuracy: 74.850000 val accuracy: 74.800000\n",
            "lr 3.000000e-07 batch_size 5.000000e+02 train accuracy: 76.660000 val accuracy: 78.800000\n",
            "lr 3.000000e-06 batch_size 1.000000e+00 train accuracy: 72.610000 val accuracy: 73.500000\n",
            "lr 3.000000e-06 batch_size 1.000000e+02 train accuracy: 80.430000 val accuracy: 81.700000\n",
            "lr 3.000000e-06 batch_size 2.000000e+02 train accuracy: 75.340000 val accuracy: 73.900000\n",
            "lr 3.000000e-06 batch_size 4.000000e+02 train accuracy: 71.590000 val accuracy: 71.400000\n",
            "lr 3.000000e-06 batch_size 5.000000e+02 train accuracy: 79.050000 val accuracy: 80.000000\n",
            "lr 5.000000e-06 batch_size 1.000000e+00 train accuracy: 73.640000 val accuracy: 73.600000\n",
            "lr 5.000000e-06 batch_size 1.000000e+02 train accuracy: 74.040000 val accuracy: 73.600000\n",
            "lr 5.000000e-06 batch_size 2.000000e+02 train accuracy: 81.330000 val accuracy: 80.500000\n",
            "lr 5.000000e-06 batch_size 4.000000e+02 train accuracy: 81.830000 val accuracy: 83.300000\n",
            "lr 5.000000e-06 batch_size 5.000000e+02 train accuracy: 82.170000 val accuracy: 82.500000\n",
            "best validation accuracy achieved during cross-validation: 83.300000\n",
            "linear perceptron on raw pixels final test set accuracy: 80.700000\n"
          ]
        }
      ],
      "source": [
        "# You are encouraged to experiment with additional values\n",
        "learning_rates = [1e-7, 5e-6, 3e-6, 3e-7]\n",
        "batch_sizes = [1, 100, 200, 400, 500]\n",
        "\n",
        "results = {}\n",
        "best_val = -1   # The highest validation accuracy that we have seen so far.\n",
        "best_perceptron = None # The LinearPerceptron object that achieved the highest validation rate.\n",
        "\n",
        "for lr in learning_rates:\n",
        "    for batch_size in batch_sizes:\n",
        "        perceptron = LinearPerceptron(X_train, y_train)\n",
        "        loss_history = perceptron.train(X_train, y_train, learning_rate=lr, num_iters=1500, batch_size=batch_size ,verbose=True)\n",
        "        training_accuracy = perceptron.calc_accuracy(X_train, y_train)\n",
        "        validation_accuracy = perceptron.calc_accuracy(X_val, y_val)\n",
        "        results[(lr, batch_size)] = (training_accuracy, validation_accuracy)\n",
        "        if validation_accuracy > best_val:\n",
        "            best_val = validation_accuracy\n",
        "            best_perceptron = perceptron\n",
        "\n",
        "\n",
        "for lr, batch_size in sorted(results):\n",
        "    train_accuracy, val_accuracy = results[(lr, batch_size)]\n",
        "    print ('lr %e batch_size %e train accuracy: %f val accuracy: %f' % (\n",
        "                lr, batch_size, train_accuracy, val_accuracy))\n",
        "\n",
        "print ('best validation accuracy achieved during cross-validation: %f' % best_val)\n",
        "\n",
        "test_accuracy = best_perceptron.calc_accuracy(X_test, y_test)\n",
        "print ('linear perceptron on raw pixels final test set accuracy: %f' % test_accuracy)"
      ]
    },
    {
      "cell_type": "markdown",
      "metadata": {
        "id": "upoW3pQ1ET8Q"
      },
      "source": [
        "## Logistic regression\n",
        "\n",
        "Another choice for a binary classifier is the binary logistic regression classifier. Unlike the perceptron which treats the outputs as uncalibrated and possibly difficult to interpret scores for each class, the binary logistic regression classifier gives a slightly more intuitive output in the form of normalized class probabilities. In this classifier, the function mapping $f(x_i; W, b) = W\\cdot x_i + b$ stays unchanged but we now interpret these scores as the unnormalized log probabilities for each class and replace the perceptron loss with a cross-entropy loss. In this exercise, we will define our binary logistic regression classifier to have one input.       \n",
        "\n",
        "Read the next code cell. The constructor of the `LogisticRegression` class takes as input the dataset and labels in order to create appropriate parameters. Notice we are using the bias trick and only use the matrix `w` for convenience. Since we already have a (random) model, we can start predicting classes on images. Complete the method `predict` in the `LogisticRegression` class - remember you need to implement the sigmoid function before you can obtain predictions using your classifier. **(10 Points)**\n",
        "\n",
        "**Important note**: values passed to the `sigmoid` function can be arbitrarily large or small. When we take the exponent of such values, we might encounter extreme values that might *overflow*. This is known as numerical instability and you should always take care when you use exponent in your functions."
      ]
    },
    {
      "cell_type": "code",
      "execution_count": null,
      "metadata": {
        "ExecuteTime": {
          "end_time": "2022-10-29T15:30:35.229664Z",
          "start_time": "2022-10-29T15:30:35.184722Z"
        },
        "id": "Y9cU2sJ_X96d"
      },
      "outputs": [],
      "source": [
        "def sigmoid(x):\n",
        "    \"\"\"\n",
        "    Numerically stable Sigmoid function.\n",
        "\n",
        "    Input: any unnormalized log probabilities vector\n",
        "    Output: normalized probabilities\n",
        "    \"\"\"\n",
        "    return 1/(1+np.exp(-x))"
      ]
    },
    {
      "cell_type": "code",
      "execution_count": null,
      "metadata": {
        "ExecuteTime": {
          "end_time": "2022-10-29T15:30:52.504993Z",
          "start_time": "2022-10-29T15:30:52.486057Z"
        },
        "id": "oGClf3GJLlBp"
      },
      "outputs": [],
      "source": [
        "class LogisticRegression(LinearClassifier):\n",
        "    # Classifer that uses sigmoid and binary cross entropy loss\n",
        "    def __init__(self, X, y):\n",
        "        super().__init__(X, y)\n",
        "        self.W = np.random.randn(X.shape[1], 1) * 0.0001\n",
        "\n",
        "    def predict(self, X):\n",
        "        f_wb = LinearClassifier.predict(self,X)\n",
        "        sig_f_wb = sigmoid(f_wb)\n",
        "        predictions = (f_wb >= 0.5).astype(int)\n",
        "        return np.squeeze(predictions)\n",
        "\n",
        "\n",
        "    def loss(self, X_batch, y_batch):\n",
        "        return binary_cross_entropy(self.W, X_batch, y_batch)"
      ]
    },
    {
      "cell_type": "code",
      "execution_count": null,
      "metadata": {
        "ExecuteTime": {
          "end_time": "2022-10-29T15:30:53.132207Z",
          "start_time": "2022-10-29T15:30:53.121237Z"
        },
        "id": "BRrb-mb5ET8Q"
      },
      "outputs": [],
      "source": [
        "logistic = LogisticRegression(X_train, y_train)\n",
        "y_pred = logistic.predict(X_test)"
      ]
    },
    {
      "cell_type": "code",
      "execution_count": null,
      "metadata": {
        "ExecuteTime": {
          "end_time": "2022-10-29T15:30:53.866044Z",
          "start_time": "2022-10-29T15:30:53.729569Z"
        },
        "colab": {
          "base_uri": "https://localhost:8080/",
          "height": 138
        },
        "id": "jUb2tkIMET8Q",
        "outputId": "16a155b3-2b84-44dc-b854-3d653b4a57dd"
      },
      "outputs": [
        {
          "output_type": "stream",
          "name": "stdout",
          "text": [
            "    plane\t    plane\t      car\t      car\n"
          ]
        },
        {
          "output_type": "display_data",
          "data": {
            "text/plain": [
              "<Figure size 360x216 with 1 Axes>"
            ],
            "image/png": "[encoded data removed]"
          },
          "metadata": {
            "needs_background": "light"
          }
        }
      ],
      "source": [
        "X_batch, y_batch = get_batch(X_train, y_train, 4)\n",
        "plt.imshow(make_random_grid(X_batch, y_batch));"
      ]
    },
    {
      "cell_type": "code",
      "execution_count": null,
      "metadata": {
        "ExecuteTime": {
          "end_time": "2022-10-29T15:31:05.584563Z",
          "start_time": "2022-10-29T15:31:05.559650Z"
        },
        "colab": {
          "base_uri": "https://localhost:8080/"
        },
        "id": "1I5T0LiBET8Q",
        "outputId": "fbac1800-30ee-413f-d0d7-2fe48da85aec"
      },
      "outputs": [
        {
          "output_type": "stream",
          "name": "stdout",
          "text": [
            "        plane           car         plane         plane\n"
          ]
        }
      ],
      "source": [
        "# predictions\n",
        "print(' '.join('%13s' % classes[y_pred[j]] for j in range(4)))"
      ]
    },
    {
      "cell_type": "code",
      "execution_count": null,
      "metadata": {
        "ExecuteTime": {
          "end_time": "2022-10-29T15:31:10.105426Z",
          "start_time": "2022-10-29T15:31:10.033927Z"
        },
        "colab": {
          "base_uri": "https://localhost:8080/"
        },
        "id": "29GDDyzIET8Q",
        "outputId": "5c846854-dbd9-4db1-8057-7c43db2a8e54"
      },
      "outputs": [
        {
          "output_type": "stream",
          "name": "stdout",
          "text": [
            "model accuracy:  55.33\n"
          ]
        }
      ],
      "source": [
        "print(\"model accuracy: \", logistic.calc_accuracy(X_train, y_train))"
      ]
    },
    {
      "cell_type": "markdown",
      "metadata": {
        "id": "Vpy2WTyGET8Q"
      },
      "source": [
        "## Binary cross-entropy\n",
        "\n",
        "Your code for this section will written in the next cell.\n",
        "\n",
        "Complete the function `binary_cross_entropy` using vectorized code. This function takes as input the weights, data, labels and outputs the calculated loss as a single number and the gradients with respect to W. (**20 points**)"
      ]
    },
    {
      "cell_type": "code",
      "execution_count": null,
      "metadata": {
        "ExecuteTime": {
          "end_time": "2022-10-29T15:31:30.874716Z",
          "start_time": "2022-10-29T15:31:30.826315Z"
        },
        "id": "pfjEDW6n3mRu"
      },
      "outputs": [],
      "source": [
        "def binary_cross_entropy(W, X, y):\n",
        "    \"\"\"\n",
        "    Structured BCE loss function. Implement this function using vectorized code.\n",
        "    Inputs:\n",
        "    - W: array of weights\n",
        "    - X: array of data\n",
        "    - y: 1-dimensional array of length N with binary labels (0,1).\n",
        "    Returns:\n",
        "    a tuple of:\n",
        "    - loss as single float\n",
        "    - gradient with respect to weights W; an array of same shape as W\n",
        "    \"\"\"\n",
        "    loss = 0.0\n",
        "    dW = np.zeros(W.shape) # initialize the gradient as zero\n",
        "\n",
        "    y_tag = y\n",
        "    y_tag[y_tag == 0] = -1\n",
        "    z = np.dot(X, W.flatten())\n",
        "    yz = sigmoid(y_tag*z)\n",
        "    loss -= np.sum(np.log(yz)) / X.shape[0]\n",
        "    dW -= np.sum(np.asmatrix(sigmoid(-y_tag*z)*y_tag)*X, axis=0).reshape(dW.shape) / X.shape[0]\n",
        "\n",
        "    return loss, dW"
      ]
    },
    {
      "cell_type": "code",
      "execution_count": null,
      "metadata": {
        "ExecuteTime": {
          "end_time": "2022-10-29T15:31:34.082144Z",
          "start_time": "2022-10-29T15:31:34.066172Z"
        },
        "id": "EvLw8x4oET8Q"
      },
      "outputs": [],
      "source": [
        "W = np.random.randn(3073, 1) * 0.0001"
      ]
    },
    {
      "cell_type": "code",
      "execution_count": null,
      "metadata": {
        "ExecuteTime": {
          "end_time": "2022-10-29T15:31:36.963381Z",
          "start_time": "2022-10-29T15:31:36.923469Z"
        },
        "colab": {
          "base_uri": "https://localhost:8080/"
        },
        "id": "1VKKB4y8ET8Q",
        "outputId": "7109d4fc-cb0b-49ef-f1e8-ad4e330e46b0"
      },
      "outputs": [
        {
          "output_type": "stream",
          "name": "stdout",
          "text": [
            "loss: 0.739092\n",
            "[[ 3.80279564e+00]\n",
            " [ 8.30494649e+00]\n",
            " [ 1.27931980e+01]\n",
            " ...\n",
            " [ 5.96727718e+00]\n",
            " [ 7.20317600e+00]\n",
            " [-1.43799038e-03]] (3073, 1)\n",
            "CPU times: user 13.8 ms, sys: 2.92 ms, total: 16.7 ms\n",
            "Wall time: 15.3 ms\n"
          ]
        }
      ],
      "source": [
        "%%time\n",
        "loss_naive, grad_naive = binary_cross_entropy(W, X_val, y_val)\n",
        "print ('loss: %f' % (loss_naive, ))\n",
        "print(grad_naive, grad_naive.shape)"
      ]
    },
    {
      "cell_type": "markdown",
      "metadata": {
        "id": "IawKSQqf8vSq"
      },
      "source": [
        "You are provided with a gradient test in the next cells:"
      ]
    },
    {
      "cell_type": "code",
      "execution_count": null,
      "metadata": {
        "ExecuteTime": {
          "end_time": "2022-10-29T15:32:14.847516Z",
          "start_time": "2022-10-29T15:32:14.835995Z"
        },
        "id": "nms4Rd7O8s2l"
      },
      "outputs": [],
      "source": [
        "def grad_check(f, x, analytic_grad, num_checks=10, h=1e-5):\n",
        "    for i in range(num_checks):\n",
        "        ix = tuple([randrange(m) for m in x.shape])\n",
        "\n",
        "        oldval = x[ix]\n",
        "        x[ix] = oldval + h # increment by h\n",
        "        fxph = f(x) # evaluate f(x + h)\n",
        "        x[ix] = oldval - h # increment by h\n",
        "        fxmh = f(x) # evaluate f(x - h)\n",
        "        x[ix] = oldval # reset\n",
        "\n",
        "        grad_numerical = (fxph - fxmh) / (2 * h)\n",
        "        grad_analytic = analytic_grad[ix]\n",
        "        rel_error = abs(grad_numerical - grad_analytic) / (abs(grad_numerical) + abs(grad_analytic))\n",
        "        print ('numerical: %f analytic: %f, relative error: %e' % (grad_numerical, grad_analytic, rel_error))"
      ]
    },
    {
      "cell_type": "code",
      "execution_count": null,
      "metadata": {
        "ExecuteTime": {
          "end_time": "2022-10-29T15:32:16.311794Z",
          "start_time": "2022-10-29T15:32:16.096941Z"
        },
        "colab": {
          "base_uri": "https://localhost:8080/"
        },
        "id": "i0OWqVCzET8R",
        "outputId": "7b2d866b-b511-453a-b0e1-9041f4eb4fc1"
      },
      "outputs": [
        {
          "output_type": "stream",
          "name": "stdout",
          "text": [
            "numerical: 10.709844 analytic: 10.709844, relative error: 7.077620e-09\n",
            "numerical: 6.260145 analytic: 6.260146, relative error: 1.316355e-08\n",
            "numerical: 11.530258 analytic: 11.530258, relative error: 5.699884e-09\n",
            "numerical: 9.051373 analytic: 9.051373, relative error: 3.971720e-09\n",
            "numerical: 12.002683 analytic: 12.002684, relative error: 8.106396e-09\n",
            "numerical: 8.997591 analytic: 8.997591, relative error: 4.033971e-09\n",
            "numerical: -3.400303 analytic: -3.400303, relative error: 1.487179e-08\n",
            "numerical: 8.278448 analytic: 8.278448, relative error: 6.716672e-09\n",
            "numerical: 8.585579 analytic: 8.585579, relative error: 6.300776e-09\n",
            "numerical: 5.860975 analytic: 5.860975, relative error: 1.148551e-08\n"
          ]
        }
      ],
      "source": [
        "loss, grad = binary_cross_entropy(W, X_val, y_val)\n",
        "f = lambda w: binary_cross_entropy(w, X_val, y_val)[0]\n",
        "grad_numerical = grad_check(f, W, grad)"
      ]
    },
    {
      "cell_type": "markdown",
      "metadata": {
        "id": "r-qL6Ti_ET8R"
      },
      "source": [
        "If implemented correctly, the training procedure you already implemented should work."
      ]
    },
    {
      "cell_type": "code",
      "execution_count": null,
      "metadata": {
        "ExecuteTime": {
          "end_time": "2022-10-29T15:32:33.879334Z",
          "start_time": "2022-10-29T15:32:29.754892Z"
        },
        "colab": {
          "base_uri": "https://localhost:8080/"
        },
        "id": "RlW4q5xjET8R",
        "outputId": "2c5d9a3c-3817-4d2f-8d2c-d27227aef640"
      },
      "outputs": [
        {
          "output_type": "stream",
          "name": "stdout",
          "text": [
            "iteration 0 / 1500: loss 0.815165\n",
            "iteration 100 / 1500: loss 0.471626\n",
            "iteration 200 / 1500: loss 0.492247\n",
            "iteration 300 / 1500: loss 0.422816\n",
            "iteration 400 / 1500: loss 0.369892\n",
            "iteration 500 / 1500: loss 0.419664\n",
            "iteration 600 / 1500: loss 0.386903\n",
            "iteration 700 / 1500: loss 0.458774\n",
            "iteration 800 / 1500: loss 0.430859\n",
            "iteration 900 / 1500: loss 0.415544\n",
            "iteration 1000 / 1500: loss 0.402596\n",
            "iteration 1100 / 1500: loss 0.414117\n",
            "iteration 1200 / 1500: loss 0.354859\n",
            "iteration 1300 / 1500: loss 0.404173\n",
            "iteration 1400 / 1500: loss 0.412754\n",
            "CPU times: user 4.4 s, sys: 3.46 s, total: 7.86 s\n",
            "Wall time: 4.15 s\n"
          ]
        }
      ],
      "source": [
        "%%time\n",
        "logistic = LogisticRegression(X_train, y_train)\n",
        "loss_history = logistic.train(X_train, y_train,\n",
        "                         learning_rate=1e-7,\n",
        "                         num_iters=1500,\n",
        "                         verbose=True)"
      ]
    },
    {
      "cell_type": "code",
      "execution_count": null,
      "metadata": {
        "ExecuteTime": {
          "end_time": "2022-10-29T15:32:34.608148Z",
          "start_time": "2022-10-29T15:32:34.441343Z"
        },
        "colab": {
          "base_uri": "https://localhost:8080/",
          "height": 225
        },
        "id": "v_6Pf6lYET8R",
        "outputId": "b8bca7d2-bf88-4db3-e66d-89ca6e6e0b96",
        "scrolled": true
      },
      "outputs": [
        {
          "output_type": "display_data",
          "data": {
            "text/plain": [
              "<Figure size 360x216 with 1 Axes>"
            ],
            "image/png": "[encoded data removed]"
          },
          "metadata": {
            "needs_background": "light"
          }
        }
      ],
      "source": [
        "plt.plot(loss_history)\n",
        "plt.xlabel('Iteration number')\n",
        "plt.ylabel('Loss value')\n",
        "plt.show()"
      ]
    },
    {
      "cell_type": "code",
      "execution_count": null,
      "metadata": {
        "ExecuteTime": {
          "end_time": "2022-10-29T15:32:35.262213Z",
          "start_time": "2022-10-29T15:32:35.201690Z"
        },
        "colab": {
          "base_uri": "https://localhost:8080/"
        },
        "id": "4S2RkwT3ET8R",
        "outputId": "8b9964d5-e85d-4498-9927-9d8d94b14db0"
      },
      "outputs": [
        {
          "output_type": "stream",
          "name": "stdout",
          "text": [
            "Training accuracy:  79.67\n",
            "Testing accuracy:  79.2\n"
          ]
        }
      ],
      "source": [
        "print(\"Training accuracy: \", logistic.calc_accuracy(X_train, y_train))\n",
        "print(\"Testing accuracy: \", logistic.calc_accuracy(X_test, y_test))"
      ]
    },
    {
      "cell_type": "markdown",
      "metadata": {
        "id": "G-1hg3RWET8R"
      },
      "source": [
        "## Hyperparameter optimization\n",
        "\n",
        "Your model should have improved from 50% accuracy to ~75% accuracy in a matter of seconds. Now, use the validation set to tune hyperparameters by training different models (using the training dataset) and evaluating the performance using the validation dataset. Save the results in a dictionary mapping tuples of the form `(learning_rate, batch_size)` to tuples of the form `(training_accuracy, validation_accuracy)`. Finally, you should evaluate the best model on the testing dataset.\n",
        "\n",
        "Use a small value for the number of iterations as you develop your code. Once you are confident that everything works, run it again for more iterations. **(5 points)**"
      ]
    },
    {
      "cell_type": "code",
      "execution_count": null,
      "metadata": {
        "ExecuteTime": {
          "end_time": "2022-10-29T15:34:05.819661Z",
          "start_time": "2022-10-29T15:33:33.339414Z"
        },
        "colab": {
          "base_uri": "https://localhost:8080/"
        },
        "id": "sxXvTbhJET8R",
        "outputId": "bc6228c3-b146-4494-ad00-e33827742c6b"
      },
      "outputs": [
        {
          "output_type": "stream",
          "name": "stdout",
          "text": [
            "1 1e-07\n",
            "iteration 0 / 1700: loss 0.610452\n",
            "iteration 100 / 1700: loss 0.058732\n",
            "iteration 200 / 1700: loss 0.649055\n",
            "iteration 300 / 1700: loss 0.254686\n",
            "iteration 400 / 1700: loss 0.143576\n",
            "iteration 500 / 1700: loss 0.200533\n",
            "iteration 600 / 1700: loss 0.144724\n",
            "iteration 700 / 1700: loss 0.058156\n",
            "iteration 800 / 1700: loss 0.061322\n",
            "iteration 900 / 1700: loss 0.154666\n",
            "iteration 1000 / 1700: loss 0.447150\n",
            "iteration 1100 / 1700: loss 0.495218\n",
            "iteration 1200 / 1700: loss 0.104498\n",
            "iteration 1300 / 1700: loss 0.129035\n",
            "iteration 1400 / 1700: loss 0.003273\n",
            "iteration 1500 / 1700: loss 0.354829\n",
            "iteration 1600 / 1700: loss 1.416454\n",
            "75.83 75.4\n",
            "1 5e-06\n",
            "iteration 0 / 1700: loss 0.478544\n",
            "iteration 100 / 1700: loss 16.247372\n",
            "iteration 200 / 1700: loss 0.000000\n",
            "iteration 300 / 1700: loss 7.996725\n",
            "iteration 400 / 1700: loss 43.907525\n",
            "iteration 500 / 1700: loss 0.000000\n",
            "iteration 600 / 1700: loss 10.969778\n",
            "iteration 700 / 1700: loss 0.000000\n",
            "iteration 800 / 1700: loss 5.911543\n",
            "iteration 900 / 1700: loss 0.000000\n",
            "iteration 1000 / 1700: loss 0.000001\n",
            "iteration 1100 / 1700: loss 0.000000\n",
            "iteration 1200 / 1700: loss 0.000000\n",
            "iteration 1300 / 1700: loss 0.000000\n",
            "iteration 1400 / 1700: loss 0.000000\n",
            "iteration 1500 / 1700: loss 0.862329\n",
            "iteration 1600 / 1700: loss 0.000000\n",
            "76.79 77.7\n",
            "1 2e-07\n",
            "iteration 0 / 1700: loss 0.408900\n",
            "iteration 100 / 1700: loss 0.032988\n",
            "iteration 200 / 1700: loss 0.591308\n",
            "iteration 300 / 1700: loss 0.214117\n",
            "iteration 400 / 1700: loss 0.052797\n",
            "iteration 500 / 1700: loss 0.058320\n",
            "iteration 600 / 1700: loss 0.629987\n",
            "iteration 700 / 1700: loss 0.418806\n",
            "iteration 800 / 1700: loss 0.790486\n",
            "iteration 900 / 1700: loss 0.031945\n",
            "iteration 1000 / 1700: loss 0.165931\n",
            "iteration 1100 / 1700: loss 0.092712\n",
            "iteration 1200 / 1700: loss 0.019296\n",
            "iteration 1300 / 1700: loss 1.954156\n",
            "iteration 1400 / 1700: loss 0.002966\n",
            "iteration 1500 / 1700: loss 0.683001\n",
            "iteration 1600 / 1700: loss 0.122384\n",
            "78.73 79.5\n",
            "1 3e-06\n",
            "iteration 0 / 1700: loss 0.990685\n",
            "iteration 100 / 1700: loss 0.000000\n",
            "iteration 200 / 1700: loss 0.124202\n",
            "iteration 300 / 1700: loss 39.511828\n",
            "iteration 400 / 1700: loss 0.000000\n",
            "iteration 500 / 1700: loss 19.187824\n",
            "iteration 600 / 1700: loss 0.000000\n",
            "iteration 700 / 1700: loss 0.000000\n",
            "iteration 800 / 1700: loss 0.000000\n",
            "iteration 900 / 1700: loss 0.000000\n",
            "iteration 1000 / 1700: loss 13.236542\n",
            "iteration 1100 / 1700: loss 0.000006\n",
            "iteration 1200 / 1700: loss 0.000000\n",
            "iteration 1300 / 1700: loss 27.374085\n",
            "iteration 1400 / 1700: loss 9.619904\n",
            "iteration 1500 / 1700: loss 0.000000\n",
            "iteration 1600 / 1700: loss 0.000000\n",
            "69.95 68.0\n",
            "100 1e-07\n",
            "iteration 0 / 1700: loss 0.669736\n",
            "iteration 100 / 1700: loss 0.479191\n",
            "iteration 200 / 1700: loss 0.514648\n",
            "iteration 300 / 1700: loss 0.531832\n",
            "iteration 400 / 1700: loss 0.496696\n",
            "iteration 500 / 1700: loss 0.439320\n",
            "iteration 600 / 1700: loss 0.406022\n",
            "iteration 700 / 1700: loss 0.536431\n",
            "iteration 800 / 1700: loss 0.375335\n",
            "iteration 900 / 1700: loss 0.402480\n",
            "iteration 1000 / 1700: loss 0.348517\n",
            "iteration 1100 / 1700: loss 0.469150\n",
            "iteration 1200 / 1700: loss 0.537250\n",
            "iteration 1300 / 1700: loss 0.383077\n",
            "iteration 1400 / 1700: loss 0.477269\n",
            "iteration 1500 / 1700: loss 0.332716\n",
            "iteration 1600 / 1700: loss 0.393457\n",
            "80.0 78.9\n",
            "100 5e-06\n",
            "iteration 0 / 1700: loss 0.627612\n",
            "iteration 100 / 1700: loss 0.453774\n",
            "iteration 200 / 1700: loss 0.414631\n",
            "iteration 300 / 1700: loss 0.427102\n",
            "iteration 400 / 1700: loss 0.416419\n",
            "iteration 500 / 1700: loss 0.442115\n",
            "iteration 600 / 1700: loss 0.257902\n",
            "iteration 700 / 1700: loss 0.336421\n",
            "iteration 800 / 1700: loss 0.327940\n",
            "iteration 900 / 1700: loss 0.220706\n",
            "iteration 1000 / 1700: loss 0.260806\n",
            "iteration 1100 / 1700: loss 0.364927\n",
            "iteration 1200 / 1700: loss 0.306808\n",
            "iteration 1300 / 1700: loss 0.274058\n",
            "iteration 1400 / 1700: loss 0.286489\n",
            "iteration 1500 / 1700: loss 0.280090\n",
            "iteration 1600 / 1700: loss 0.418474\n",
            "79.92 79.60000000000001\n",
            "100 2e-07\n",
            "iteration 0 / 1700: loss 0.690687\n",
            "iteration 100 / 1700: loss 0.410701\n",
            "iteration 200 / 1700: loss 0.445150\n",
            "iteration 300 / 1700: loss 0.385304\n",
            "iteration 400 / 1700: loss 0.501687\n",
            "iteration 500 / 1700: loss 0.302527\n",
            "iteration 600 / 1700: loss 0.397602\n",
            "iteration 700 / 1700: loss 0.370161\n",
            "iteration 800 / 1700: loss 0.427648\n",
            "iteration 900 / 1700: loss 0.346096\n",
            "iteration 1000 / 1700: loss 0.377450\n",
            "iteration 1100 / 1700: loss 0.361513\n",
            "iteration 1200 / 1700: loss 0.479150\n",
            "iteration 1300 / 1700: loss 0.384482\n",
            "iteration 1400 / 1700: loss 0.312767\n",
            "iteration 1500 / 1700: loss 0.403762\n",
            "iteration 1600 / 1700: loss 0.420396\n",
            "80.47999999999999 79.60000000000001\n",
            "100 3e-06\n",
            "iteration 0 / 1700: loss 0.693995\n",
            "iteration 100 / 1700: loss 0.370931\n",
            "iteration 200 / 1700: loss 0.417428\n",
            "iteration 300 / 1700: loss 0.434916\n",
            "iteration 400 / 1700: loss 0.351202\n",
            "iteration 500 / 1700: loss 0.270977\n",
            "iteration 600 / 1700: loss 0.455290\n",
            "iteration 700 / 1700: loss 0.335411\n",
            "iteration 800 / 1700: loss 0.355883\n",
            "iteration 900 / 1700: loss 0.289980\n",
            "iteration 1000 / 1700: loss 0.291556\n",
            "iteration 1100 / 1700: loss 0.362005\n",
            "iteration 1200 / 1700: loss 0.371143\n",
            "iteration 1300 / 1700: loss 0.325865\n",
            "iteration 1400 / 1700: loss 0.382493\n",
            "iteration 1500 / 1700: loss 0.464276\n",
            "iteration 1600 / 1700: loss 0.257719\n",
            "79.14999999999999 77.4\n",
            "200 1e-07\n",
            "iteration 0 / 1700: loss 0.698296\n",
            "iteration 100 / 1700: loss 0.483578\n",
            "iteration 200 / 1700: loss 0.451307\n",
            "iteration 300 / 1700: loss 0.423459\n",
            "iteration 400 / 1700: loss 0.452385\n",
            "iteration 500 / 1700: loss 0.456579\n",
            "iteration 600 / 1700: loss 0.405828\n",
            "iteration 700 / 1700: loss 0.388527\n",
            "iteration 800 / 1700: loss 0.421961\n",
            "iteration 900 / 1700: loss 0.387156\n",
            "iteration 1000 / 1700: loss 0.447867\n",
            "iteration 1100 / 1700: loss 0.390616\n",
            "iteration 1200 / 1700: loss 0.410619\n",
            "iteration 1300 / 1700: loss 0.385435\n",
            "iteration 1400 / 1700: loss 0.441858\n",
            "iteration 1500 / 1700: loss 0.380594\n",
            "iteration 1600 / 1700: loss 0.435218\n",
            "79.65 79.4\n",
            "200 5e-06\n",
            "iteration 0 / 1700: loss 0.674067\n",
            "iteration 100 / 1700: loss 0.458377\n",
            "iteration 200 / 1700: loss 0.491748\n",
            "iteration 300 / 1700: loss 0.298321\n",
            "iteration 400 / 1700: loss 0.409753\n",
            "iteration 500 / 1700: loss 0.346658\n",
            "iteration 600 / 1700: loss 0.347718\n",
            "iteration 700 / 1700: loss 0.381947\n",
            "iteration 800 / 1700: loss 0.313412\n",
            "iteration 900 / 1700: loss 0.512258\n",
            "iteration 1000 / 1700: loss 0.418057\n",
            "iteration 1100 / 1700: loss 0.258738\n",
            "iteration 1200 / 1700: loss 0.333282\n",
            "iteration 1300 / 1700: loss 0.332543\n",
            "iteration 1400 / 1700: loss 0.549562\n",
            "iteration 1500 / 1700: loss 0.274260\n",
            "iteration 1600 / 1700: loss 0.239182\n",
            "81.84 80.10000000000001\n",
            "200 2e-07\n",
            "iteration 0 / 1700: loss 0.656455\n",
            "iteration 100 / 1700: loss 0.525190\n",
            "iteration 200 / 1700: loss 0.436701\n",
            "iteration 300 / 1700: loss 0.414654\n",
            "iteration 400 / 1700: loss 0.425169\n",
            "iteration 500 / 1700: loss 0.357756\n",
            "iteration 600 / 1700: loss 0.460253\n",
            "iteration 700 / 1700: loss 0.471286\n",
            "iteration 800 / 1700: loss 0.322502\n",
            "iteration 900 / 1700: loss 0.393489\n",
            "iteration 1000 / 1700: loss 0.405384\n",
            "iteration 1100 / 1700: loss 0.361297\n",
            "iteration 1200 / 1700: loss 0.424316\n",
            "iteration 1300 / 1700: loss 0.386718\n",
            "iteration 1400 / 1700: loss 0.360647\n",
            "iteration 1500 / 1700: loss 0.369822\n",
            "iteration 1600 / 1700: loss 0.411810\n",
            "80.65 79.3\n",
            "200 3e-06\n",
            "iteration 0 / 1700: loss 0.729477\n",
            "iteration 100 / 1700: loss 0.335544\n",
            "iteration 200 / 1700: loss 0.340539\n",
            "iteration 300 / 1700: loss 0.303718\n",
            "iteration 400 / 1700: loss 0.358346\n",
            "iteration 500 / 1700: loss 0.376375\n",
            "iteration 600 / 1700: loss 0.371875\n",
            "iteration 700 / 1700: loss 0.303338\n",
            "iteration 800 / 1700: loss 0.275113\n",
            "iteration 900 / 1700: loss 0.339159\n",
            "iteration 1000 / 1700: loss 0.327701\n",
            "iteration 1100 / 1700: loss 0.292210\n",
            "iteration 1200 / 1700: loss 0.347873\n",
            "iteration 1300 / 1700: loss 0.293136\n",
            "iteration 1400 / 1700: loss 0.362811\n",
            "iteration 1500 / 1700: loss 0.313843\n",
            "iteration 1600 / 1700: loss 0.265932\n",
            "81.69 79.5\n",
            "400 1e-07\n",
            "iteration 0 / 1700: loss 0.669730\n",
            "iteration 100 / 1700: loss 0.482867\n",
            "iteration 200 / 1700: loss 0.489837\n",
            "iteration 300 / 1700: loss 0.466199\n",
            "iteration 400 / 1700: loss 0.406417\n",
            "iteration 500 / 1700: loss 0.481390\n",
            "iteration 600 / 1700: loss 0.382309\n",
            "iteration 700 / 1700: loss 0.425040\n",
            "iteration 800 / 1700: loss 0.437817\n",
            "iteration 900 / 1700: loss 0.429100\n",
            "iteration 1000 / 1700: loss 0.420931\n",
            "iteration 1100 / 1700: loss 0.423936\n",
            "iteration 1200 / 1700: loss 0.396842\n",
            "iteration 1300 / 1700: loss 0.400811\n",
            "iteration 1400 / 1700: loss 0.373938\n",
            "iteration 1500 / 1700: loss 0.403843\n",
            "iteration 1600 / 1700: loss 0.396908\n",
            "79.93 79.60000000000001\n",
            "400 5e-06\n",
            "iteration 0 / 1700: loss 0.791833\n",
            "iteration 100 / 1700: loss 0.390576\n",
            "iteration 200 / 1700: loss 0.551646\n",
            "iteration 300 / 1700: loss 0.407690\n",
            "iteration 400 / 1700: loss 0.365357\n",
            "iteration 500 / 1700: loss 0.316084\n",
            "iteration 600 / 1700: loss 0.425057\n",
            "iteration 700 / 1700: loss 0.439999\n",
            "iteration 800 / 1700: loss 0.316825\n",
            "iteration 900 / 1700: loss 0.308332\n",
            "iteration 1000 / 1700: loss 0.291429\n",
            "iteration 1100 / 1700: loss 0.289279\n",
            "iteration 1200 / 1700: loss 0.255653\n",
            "iteration 1300 / 1700: loss 0.257444\n",
            "iteration 1400 / 1700: loss 0.307805\n",
            "iteration 1500 / 1700: loss 0.281147\n",
            "iteration 1600 / 1700: loss 0.346356\n",
            "81.08 78.3\n",
            "400 2e-07\n",
            "iteration 0 / 1700: loss 0.737302\n",
            "iteration 100 / 1700: loss 0.471190\n",
            "iteration 200 / 1700: loss 0.453738\n",
            "iteration 300 / 1700: loss 0.383881\n",
            "iteration 400 / 1700: loss 0.423641\n",
            "iteration 500 / 1700: loss 0.416690\n",
            "iteration 600 / 1700: loss 0.429773\n",
            "iteration 700 / 1700: loss 0.405566\n",
            "iteration 800 / 1700: loss 0.388144\n",
            "iteration 900 / 1700: loss 0.397707\n",
            "iteration 1000 / 1700: loss 0.387448\n",
            "iteration 1100 / 1700: loss 0.394912\n",
            "iteration 1200 / 1700: loss 0.365379\n",
            "iteration 1300 / 1700: loss 0.376128\n",
            "iteration 1400 / 1700: loss 0.383513\n",
            "iteration 1500 / 1700: loss 0.416385\n",
            "iteration 1600 / 1700: loss 0.371785\n",
            "80.53 79.0\n",
            "400 3e-06\n",
            "iteration 0 / 1700: loss 0.631880\n",
            "iteration 100 / 1700: loss 0.387220\n",
            "iteration 200 / 1700: loss 0.356987\n",
            "iteration 300 / 1700: loss 0.375710\n",
            "iteration 400 / 1700: loss 0.329773\n",
            "iteration 500 / 1700: loss 0.359656\n",
            "iteration 600 / 1700: loss 0.341385\n",
            "iteration 700 / 1700: loss 0.337234\n",
            "iteration 800 / 1700: loss 0.349912\n",
            "iteration 900 / 1700: loss 0.324170\n",
            "iteration 1000 / 1700: loss 0.360436\n",
            "iteration 1100 / 1700: loss 0.311861\n",
            "iteration 1200 / 1700: loss 0.320705\n",
            "iteration 1300 / 1700: loss 0.330829\n",
            "iteration 1400 / 1700: loss 0.304101\n",
            "iteration 1500 / 1700: loss 0.304226\n",
            "iteration 1600 / 1700: loss 0.272923\n",
            "81.87 79.4\n",
            "500 1e-07\n",
            "iteration 0 / 1700: loss 0.684199\n",
            "iteration 100 / 1700: loss 0.470232\n",
            "iteration 200 / 1700: loss 0.503258\n",
            "iteration 300 / 1700: loss 0.390522\n",
            "iteration 400 / 1700: loss 0.398904\n",
            "iteration 500 / 1700: loss 0.415974\n",
            "iteration 600 / 1700: loss 0.426380\n",
            "iteration 700 / 1700: loss 0.462857\n",
            "iteration 800 / 1700: loss 0.437176\n",
            "iteration 900 / 1700: loss 0.381485\n",
            "iteration 1000 / 1700: loss 0.321012\n",
            "iteration 1100 / 1700: loss 0.399627\n",
            "iteration 1200 / 1700: loss 0.419251\n",
            "iteration 1300 / 1700: loss 0.385226\n",
            "iteration 1400 / 1700: loss 0.390178\n",
            "iteration 1500 / 1700: loss 0.409137\n",
            "iteration 1600 / 1700: loss 0.394237\n",
            "79.75 79.60000000000001\n",
            "500 5e-06\n",
            "iteration 0 / 1700: loss 0.727014\n",
            "iteration 100 / 1700: loss 0.715045\n",
            "iteration 200 / 1700: loss 0.373954\n",
            "iteration 300 / 1700: loss 0.324739\n",
            "iteration 400 / 1700: loss 0.603775\n",
            "iteration 500 / 1700: loss 0.399222\n",
            "iteration 600 / 1700: loss 0.451173\n",
            "iteration 700 / 1700: loss 0.303850\n",
            "iteration 800 / 1700: loss 0.336952\n",
            "iteration 900 / 1700: loss 0.498791\n",
            "iteration 1000 / 1700: loss 0.332214\n",
            "iteration 1100 / 1700: loss 0.365552\n",
            "iteration 1200 / 1700: loss 0.282635\n",
            "iteration 1300 / 1700: loss 0.311798\n",
            "iteration 1400 / 1700: loss 0.297810\n",
            "iteration 1500 / 1700: loss 0.286427\n",
            "iteration 1600 / 1700: loss 0.349721\n",
            "80.86 78.10000000000001\n",
            "500 2e-07\n",
            "iteration 0 / 1700: loss 0.692421\n",
            "iteration 100 / 1700: loss 0.491305\n",
            "iteration 200 / 1700: loss 0.410660\n",
            "iteration 300 / 1700: loss 0.406069\n",
            "iteration 400 / 1700: loss 0.436928\n",
            "iteration 500 / 1700: loss 0.388895\n",
            "iteration 600 / 1700: loss 0.370784\n",
            "iteration 700 / 1700: loss 0.369671\n",
            "iteration 800 / 1700: loss 0.408902\n",
            "iteration 900 / 1700: loss 0.432029\n",
            "iteration 1000 / 1700: loss 0.393506\n",
            "iteration 1100 / 1700: loss 0.400591\n",
            "iteration 1200 / 1700: loss 0.371233\n",
            "iteration 1300 / 1700: loss 0.388930\n",
            "iteration 1400 / 1700: loss 0.412722\n",
            "iteration 1500 / 1700: loss 0.381776\n",
            "iteration 1600 / 1700: loss 0.385825\n",
            "80.52 78.9\n",
            "500 3e-06\n",
            "iteration 0 / 1700: loss 0.703706\n",
            "iteration 100 / 1700: loss 0.432583\n",
            "iteration 200 / 1700: loss 0.383986\n",
            "iteration 300 / 1700: loss 0.332041\n",
            "iteration 400 / 1700: loss 0.361982\n",
            "iteration 500 / 1700: loss 0.305240\n",
            "iteration 600 / 1700: loss 0.311998\n",
            "iteration 700 / 1700: loss 0.288820\n",
            "iteration 800 / 1700: loss 0.301934\n",
            "iteration 900 / 1700: loss 0.294117\n",
            "iteration 1000 / 1700: loss 0.338264\n",
            "iteration 1100 / 1700: loss 0.292672\n",
            "iteration 1200 / 1700: loss 0.323959\n",
            "iteration 1300 / 1700: loss 0.333027\n",
            "iteration 1400 / 1700: loss 0.285930\n",
            "iteration 1500 / 1700: loss 0.327093\n",
            "iteration 1600 / 1700: loss 0.312824\n",
            "81.41000000000001 78.8\n",
            "lr 1.000000e-07 batch_size 1.000000e+00 train accuracy: 75.830000 val accuracy: 75.400000\n",
            "lr 1.000000e-07 batch_size 1.000000e+02 train accuracy: 80.000000 val accuracy: 78.900000\n",
            "lr 1.000000e-07 batch_size 2.000000e+02 train accuracy: 79.650000 val accuracy: 79.400000\n",
            "lr 1.000000e-07 batch_size 4.000000e+02 train accuracy: 79.930000 val accuracy: 79.600000\n",
            "lr 1.000000e-07 batch_size 5.000000e+02 train accuracy: 79.750000 val accuracy: 79.600000\n",
            "lr 2.000000e-07 batch_size 1.000000e+00 train accuracy: 78.730000 val accuracy: 79.500000\n",
            "lr 2.000000e-07 batch_size 1.000000e+02 train accuracy: 80.480000 val accuracy: 79.600000\n",
            "lr 2.000000e-07 batch_size 2.000000e+02 train accuracy: 80.650000 val accuracy: 79.300000\n",
            "lr 2.000000e-07 batch_size 4.000000e+02 train accuracy: 80.530000 val accuracy: 79.000000\n",
            "lr 2.000000e-07 batch_size 5.000000e+02 train accuracy: 80.520000 val accuracy: 78.900000\n",
            "lr 3.000000e-06 batch_size 1.000000e+00 train accuracy: 69.950000 val accuracy: 68.000000\n",
            "lr 3.000000e-06 batch_size 1.000000e+02 train accuracy: 79.150000 val accuracy: 77.400000\n",
            "lr 3.000000e-06 batch_size 2.000000e+02 train accuracy: 81.690000 val accuracy: 79.500000\n",
            "lr 3.000000e-06 batch_size 4.000000e+02 train accuracy: 81.870000 val accuracy: 79.400000\n",
            "lr 3.000000e-06 batch_size 5.000000e+02 train accuracy: 81.410000 val accuracy: 78.800000\n",
            "lr 5.000000e-06 batch_size 1.000000e+00 train accuracy: 76.790000 val accuracy: 77.700000\n",
            "lr 5.000000e-06 batch_size 1.000000e+02 train accuracy: 79.920000 val accuracy: 79.600000\n",
            "lr 5.000000e-06 batch_size 2.000000e+02 train accuracy: 81.840000 val accuracy: 80.100000\n",
            "lr 5.000000e-06 batch_size 4.000000e+02 train accuracy: 81.080000 val accuracy: 78.300000\n",
            "lr 5.000000e-06 batch_size 5.000000e+02 train accuracy: 80.860000 val accuracy: 78.100000\n",
            "best validation accuracy achieved during cross-validation: 80.100000\n",
            "Binary logistic regression on raw pixels final test set accuracy: 80.100000\n"
          ]
        }
      ],
      "source": [
        "# You are encouraged to experiment with additional values\n",
        "learning_rates = [1e-7, 5e-6, 2e-7, 3e-6]\n",
        "batch_sizes = [1, 100, 200, 400, 500]\n",
        "\n",
        "results = {}\n",
        "best_val = -1   # The highest validation accuracy that we have seen so far.\n",
        "best_logistic = None # The LogisticRegression object that achieved the highest validation rate.\n",
        "\n",
        "################################################################################\n",
        "#                            START OF YOUR CODE                                #\n",
        "################################################################################\n",
        "\n",
        "for b_size in batch_sizes:\n",
        "  for lr in learning_rates:\n",
        "    print(b_size, lr)\n",
        "    curr_logistic = LogisticRegression(X_train, y_train)\n",
        "    curr_loss_history = curr_logistic.train(X_train, y_train, learning_rate=lr,\n",
        "                                num_iters=int(min(X_train.shape[0]/b_size*150, 1700)), batch_size=b_size, verbose=True)\n",
        "    curr_train_acc = curr_logistic.calc_accuracy(X_train, y_train)\n",
        "    curr_val_acc = curr_logistic.calc_accuracy(X_test, y_test)\n",
        "    print(curr_train_acc, curr_val_acc)\n",
        "    if best_val < curr_val_acc:\n",
        "      best_val = curr_val_acc\n",
        "      best_logistic = curr_logistic\n",
        "    results[(lr, b_size)] = (curr_train_acc, curr_val_acc)\n",
        "\n",
        "################################################################################\n",
        "#                              END OF YOUR CODE                                #\n",
        "################################################################################\n",
        "\n",
        "# Print out results.\n",
        "for lr, batch_size in sorted(results):\n",
        "    train_accuracy, val_accuracy = results[(lr, batch_size)]\n",
        "    print ('lr %e batch_size %e train accuracy: %f val accuracy: %f' % (\n",
        "                lr, batch_size, train_accuracy, val_accuracy))\n",
        "\n",
        "print ('best validation accuracy achieved during cross-validation: %f' % best_val)\n",
        "\n",
        "test_accuracy = best_logistic.calc_accuracy(X_test, y_test)\n",
        "print ('Binary logistic regression on raw pixels final test set accuracy: %f' % test_accuracy)"
      ]
    },
    {
      "cell_type": "markdown",
      "metadata": {
        "id": "rdRdvKwR7MdF"
      },
      "source": [
        "# The End!"
      ]
    },
    {
      "cell_type": "code",
      "execution_count": null,
      "outputs": [],
      "source": [],
      "metadata": {
        "id": "WEovpG4B6SG6"
      }
    }
  ],
  "metadata": {
    "colab": {
      "provenance": []
    },
    "kernelspec": {
      "display_name": "Python 3 (ipykernel)",
      "language": "python",
      "name": "python3"
    },
    "language_info": {
      "codemirror_mode": {
        "name": "ipython",
        "version": 3
      },
      "file_extension": ".py",
      "mimetype": "text/x-python",
      "name": "python",
      "nbconvert_exporter": "python",
      "pygments_lexer": "ipython3",
      "version": "3.9.13"
    },
    "toc": {
      "base_numbering": 1,
      "nav_menu": {},
      "number_sections": true,
      "sideBar": true,
      "skip_h1_title": false,
      "title_cell": "Table of Contents",
      "title_sidebar": "Contents",
      "toc_cell": false,
      "toc_position": {},
      "toc_section_display": true,
      "toc_window_display": false
    },
    "varInspector": {
      "cols": {
        "lenName": 16,
        "lenType": 16,
        "lenVar": 40
      },
      "kernels_config": {
        "python": {
          "delete_cmd_postfix": "",
          "delete_cmd_prefix": "del ",
          "library": "var_list.py",
          "varRefreshCmd": "print(var_dic_list())"
        },
        "r": {
          "delete_cmd_postfix": ") ",
          "delete_cmd_prefix": "rm(",
          "library": "var_list.r",
          "varRefreshCmd": "cat(var_dic_list()) "
        }
      },
      "types_to_exclude": [
        "module",
        "function",
        "builtin_function_or_method",
        "instance",
        "_Feature"
      ],
      "window_display": false
    }
  },
  "nbformat": 4,
  "nbformat_minor": 0
}